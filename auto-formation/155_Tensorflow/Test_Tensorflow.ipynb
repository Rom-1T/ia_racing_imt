{
 "cells": [
  {
   "cell_type": "code",
   "execution_count": 1,
   "metadata": {},
   "outputs": [
    {
     "data": {
      "image/png": "[encoded data removed]",
      "text/plain": [
       "<Figure size 432x288 with 1 Axes>"
      ]
     },
     "metadata": {
      "needs_background": "light"
     },
     "output_type": "display_data"
    }
   ],
   "source": [
    "import tensorflow as tf\n",
    "import numpy as np\n",
    "import matplotlib.pyplot as plt\n",
    "%matplotlib inline\n",
    "\n",
    "def f(x):\n",
    "    return tf.exp(x - 2) + 15 * (x ** 2) + 50 * x + 1\n",
    "\n",
    "x = np.linspace(-2.5, 2.5, 100)\n",
    "y = f(x)\n",
    "\n",
    "plt.plot(x, y)\n",
    "plt.title('Représentation de f(x)')\n",
    "plt.xlabel('x')\n",
    "plt.ylabel('y')\n",
    "plt.show();"
   ]
  },
  {
   "cell_type": "code",
   "execution_count": null,
   "metadata": {},
   "outputs": [],
   "source": [
    "'''\n",
    "La valeur approximative de x qui minimise la fonction est d'environ -1.7\n",
    "'''"
   ]
  },
  {
   "cell_type": "code",
   "execution_count": 3,
   "metadata": {},
   "outputs": [
    {
     "name": "stdout",
     "output_type": "stream",
     "text": [
      "Solution :  -1.6675161\n"
     ]
    }
   ],
   "source": [
    "x = tf.Variable(-1.0)\n",
    "learning_rate = 0.001\n",
    "nb_iteration = 1000\n",
    "\n",
    "for i in range(nb_iteration):\n",
    "    with tf.GradientTape() as tape:\n",
    "        function = f(x)\n",
    "    grad = tape.gradient(function, x)\n",
    "    x.assign(x - learning_rate * grad)\n",
    "    \n",
    "print('Solution : ', x.numpy())"
   ]
  },
  {
   "cell_type": "code",
   "execution_count": null,
   "metadata": {},
   "outputs": [],
   "source": [
    "'''\n",
    "La valeur qui minimise x est à égale à environ -1.6675, ce qui est logique selon notre estimation visuelle de -1,7\n",
    "'''"
   ]
  },
  {
   "cell_type": "code",
   "execution_count": 4,
   "metadata": {},
   "outputs": [
    {
     "name": "stdout",
     "output_type": "stream",
     "text": [
      "La valeur du gradient est de :  5.722046e-05\n"
     ]
    }
   ],
   "source": [
    "print('La valeur du gradient est de : ', grad.numpy())"
   ]
  },
  {
   "cell_type": "code",
   "execution_count": null,
   "metadata": {},
   "outputs": [],
   "source": [
    "'''\n",
    "La valeur du gradient est cohérente car elle est censée être très proche de 0. \n",
    "'''"
   ]
  },
  {
   "cell_type": "markdown",
   "metadata": {},
   "source": [
    "# Problème de régression : Détection de la boîte englobant le visage"
   ]
  },
  {
   "cell_type": "code",
   "execution_count": null,
   "metadata": {},
   "outputs": [],
   "source": [
    "import matplotlib.pyplot as plt\n",
    "import numpy as np\n",
    "import os\n",
    "\n",
    "X = []\n",
    "for p in os.listdir('imgs'):\n",
    "    X.append(plt.imread('imgs/'+p))\n",
    "    \n",
    "X = np.array(X)\n",
    "print('Shape of X : ', X.shape)"
   ]
  },
  {
   "cell_type": "markdown",
   "metadata": {},
   "source": [
    "Shape of X : (1210, 256, 256, 3)"
   ]
  },
  {
   "cell_type": "code",
   "execution_count": null,
   "metadata": {},
   "outputs": [],
   "source": [
    "import pandas as pd\n",
    "\n",
    "df = pandas.read_csv('face_boxe.csv')\n",
    "print('Taille du fichier : ', len(df))\n",
    "df.head()"
   ]
  },
  {
   "cell_type": "code",
   "execution_count": null,
   "metadata": {},
   "outputs": [],
   "source": [
    "import matplotlib.pyplot as plt\n",
    "plt.figure(figsize=(12,5))\n",
    "j=1\n",
    "\n",
    "for i in np.random.randint(0, len(df), size = [8]):\n",
    "    plt.subplot(2,4,j)\n",
    "    plt.axis('off')\n",
    "    img = X[i]\n",
    "    plt.imshow(img)\n",
    "    x_min = df.xmin[i]\n",
    "    x_max = df.xmax[i]\n",
    "    y_min = df.ymin[i]\n",
    "    y_max = df.ymax[i]\n",
    "    plt.plot([x_min, x_max, x_max, x_min, x_min], [y_min, y_min, y_max, y_max, y_min], '-b')\n",
    "    J+=1"
   ]
  },
  {
   "cell_type": "markdown",
   "metadata": {},
   "source": [
    "- Mettre en forme les données"
   ]
  },
  {
   "cell_type": "code",
   "execution_count": null,
   "metadata": {},
   "outputs": [],
   "source": [
    "df['xmoy'] = ((df['xmax'] + df['xmin']) / 2) / 256\n",
    "df['ymoy'] = ((df['ymax'] + df['ymin']) / 2) / 256\n",
    "df['w'] = (df['xmax'] - df['xmin']) / 256\n",
    "df['h'] = (df['ymax'] - df['ymin']) / 256\n",
    "\n",
    "my_col = [xmoy', 'ymoy', 'w', 'h']\n",
    "df = df[my_col]\n",
    "\n"
   ]
  },
  {
   "cell_type": "markdown",
   "metadata": {},
   "source": [
    "Séparer le jeu de données en un ensemble d'entrainement et en un ensemble de validation"
   ]
  },
  {
   "cell_type": "code",
   "execution_count": null,
   "metadata": {},
   "outputs": [],
   "source": [
    "from sklearn.model_selection import train_test_split\n",
    "\n",
    "X_train, X_test, y_train, y_test = train_test_split(X, df, test_size = 0.2)"
   ]
  },
  {
   "cell_type": "markdown",
   "metadata": {},
   "source": [
    "En vous inspirant de l'image précédente, définir un modèle convolutionnel permettant d'estimer les paramètres X, Y, w et h"
   ]
  },
  {
   "cell_type": "code",
   "execution_count": 1,
   "metadata": {},
   "outputs": [
    {
     "name": "stdout",
     "output_type": "stream",
     "text": [
      "Model: \"sequential\"\n",
      "_________________________________________________________________\n",
      "Layer (type)                 Output Shape              Param #   \n",
      "=================================================================\n",
      "conv2d (Conv2D)              (None, 224, 224, 8)       608       \n",
      "_________________________________________________________________\n",
      "batch_normalization (BatchNo (None, 224, 224, 8)       32        \n",
      "_________________________________________________________________\n",
      "leaky_re_lu (LeakyReLU)      (None, 224, 224, 8)       0         \n",
      "_________________________________________________________________\n",
      "conv2d_1 (Conv2D)            (None, 224, 224, 8)       1608      \n",
      "_________________________________________________________________\n",
      "batch_normalization_1 (Batch (None, 224, 224, 8)       32        \n",
      "_________________________________________________________________\n",
      "leaky_re_lu_1 (LeakyReLU)    (None, 224, 224, 8)       0         \n",
      "_________________________________________________________________\n",
      "max_pooling2d (MaxPooling2D) (None, 112, 112, 8)       0         \n",
      "_________________________________________________________________\n",
      "conv2d_2 (Conv2D)            (None, 112, 112, 16)      3216      \n",
      "_________________________________________________________________\n",
      "batch_normalization_2 (Batch (None, 112, 112, 16)      64        \n",
      "_________________________________________________________________\n",
      "leaky_re_lu_2 (LeakyReLU)    (None, 112, 112, 16)      0         \n",
      "_________________________________________________________________\n",
      "conv2d_3 (Conv2D)            (None, 112, 112, 16)      6416      \n",
      "_________________________________________________________________\n",
      "batch_normalization_3 (Batch (None, 112, 112, 16)      64        \n",
      "_________________________________________________________________\n",
      "leaky_re_lu_3 (LeakyReLU)    (None, 112, 112, 16)      0         \n",
      "_________________________________________________________________\n",
      "max_pooling2d_1 (MaxPooling2 (None, 56, 56, 16)        0         \n",
      "_________________________________________________________________\n",
      "conv2d_4 (Conv2D)            (None, 56, 56, 32)        12832     \n",
      "_________________________________________________________________\n",
      "batch_normalization_4 (Batch (None, 56, 56, 32)        128       \n",
      "_________________________________________________________________\n",
      "leaky_re_lu_4 (LeakyReLU)    (None, 56, 56, 32)        0         \n",
      "_________________________________________________________________\n",
      "conv2d_5 (Conv2D)            (None, 56, 56, 32)        25632     \n",
      "_________________________________________________________________\n",
      "batch_normalization_5 (Batch (None, 56, 56, 32)        128       \n",
      "_________________________________________________________________\n",
      "leaky_re_lu_5 (LeakyReLU)    (None, 56, 56, 32)        0         \n",
      "_________________________________________________________________\n",
      "max_pooling2d_2 (MaxPooling2 (None, 28, 28, 32)        0         \n",
      "_________________________________________________________________\n",
      "conv2d_6 (Conv2D)            (None, 28, 28, 64)        51264     \n",
      "_________________________________________________________________\n",
      "batch_normalization_6 (Batch (None, 28, 28, 64)        256       \n",
      "_________________________________________________________________\n",
      "leaky_re_lu_6 (LeakyReLU)    (None, 28, 28, 64)        0         \n",
      "_________________________________________________________________\n",
      "conv2d_7 (Conv2D)            (None, 28, 28, 64)        102464    \n",
      "_________________________________________________________________\n",
      "batch_normalization_7 (Batch (None, 28, 28, 64)        256       \n",
      "_________________________________________________________________\n",
      "leaky_re_lu_7 (LeakyReLU)    (None, 28, 28, 64)        0         \n",
      "_________________________________________________________________\n",
      "max_pooling2d_3 (MaxPooling2 (None, 14, 14, 64)        0         \n",
      "_________________________________________________________________\n",
      "conv2d_8 (Conv2D)            (None, 14, 14, 128)       204928    \n",
      "_________________________________________________________________\n",
      "batch_normalization_8 (Batch (None, 14, 14, 128)       512       \n",
      "_________________________________________________________________\n",
      "leaky_re_lu_8 (LeakyReLU)    (None, 14, 14, 128)       0         \n",
      "_________________________________________________________________\n",
      "conv2d_9 (Conv2D)            (None, 14, 14, 128)       409728    \n",
      "_________________________________________________________________\n",
      "batch_normalization_9 (Batch (None, 14, 14, 128)       512       \n",
      "_________________________________________________________________\n",
      "leaky_re_lu_9 (LeakyReLU)    (None, 14, 14, 128)       0         \n",
      "_________________________________________________________________\n",
      "max_pooling2d_4 (MaxPooling2 (None, 7, 7, 128)         0         \n",
      "_________________________________________________________________\n",
      "conv2d_10 (Conv2D)           (None, 7, 7, 256)         819456    \n",
      "_________________________________________________________________\n",
      "batch_normalization_10 (Batc (None, 7, 7, 256)         1024      \n",
      "_________________________________________________________________\n",
      "leaky_re_lu_10 (LeakyReLU)   (None, 7, 7, 256)         0         \n",
      "_________________________________________________________________\n",
      "conv2d_11 (Conv2D)           (None, 7, 7, 256)         1638656   \n",
      "_________________________________________________________________\n",
      "batch_normalization_11 (Batc (None, 7, 7, 256)         1024      \n",
      "_________________________________________________________________\n",
      "leaky_re_lu_11 (LeakyReLU)   (None, 7, 7, 256)         0         \n",
      "_________________________________________________________________\n",
      "conv2d_12 (Conv2D)           (None, 7, 7, 256)         1638656   \n",
      "_________________________________________________________________\n",
      "batch_normalization_12 (Batc (None, 7, 7, 256)         1024      \n",
      "_________________________________________________________________\n",
      "global_average_pooling2d (Gl (None, 256)               0         \n",
      "_________________________________________________________________\n",
      "dense (Dense)                (None, 4)                 1028      \n",
      "=================================================================\n",
      "Total params: 4,921,548\n",
      "Trainable params: 4,919,020\n",
      "Non-trainable params: 2,528\n",
      "_________________________________________________________________\n"
     ]
    }
   ],
   "source": [
    "import keras\n",
    "from keras.layers import Dense, GlobalAveragePooling2D, Dropout, Conv2D, MaxPooling2D, BatchNormalization, LeakyReLU\n",
    "from keras.models import Sequential\n",
    "\n",
    "model = Sequential()\n",
    "# Part 1\n",
    "model.add(Conv2D(8, (5, 5), padding='same',input_shape=[256,256,3]))\n",
    "model.add(BatchNormalization())\n",
    "model.add(LeakyReLU())\n",
    "model.add(Conv2D(8, (5, 5), padding='same'))\n",
    "model.add(BatchNormalization())\n",
    "model.add(LeakyReLU())\n",
    "model.add(MaxPooling2D((2, 2), strides=(2, 2)))\n",
    "\n",
    "model.add(Conv2D(16, (5, 5), padding='same'))\n",
    "model.add(BatchNormalization())\n",
    "model.add(LeakyReLU())\n",
    "model.add(Conv2D(16, (5, 5), padding='same'))\n",
    "model.add(BatchNormalization())\n",
    "model.add(LeakyReLU())\n",
    "model.add(MaxPooling2D((2, 2), strides=(2, 2)))\n",
    "\n",
    "model.add(Conv2D(32, (5, 5), padding='same'))\n",
    "model.add(BatchNormalization())\n",
    "model.add(LeakyReLU())\n",
    "model.add(Conv2D(32, (5, 5), padding='same'))\n",
    "model.add(BatchNormalization())\n",
    "model.add(LeakyReLU())\n",
    "model.add(MaxPooling2D((2, 2), strides=(2, 2)))\n",
    "\n",
    "model.add(Conv2D(64, (5, 5), padding='same'))\n",
    "model.add(BatchNormalization())\n",
    "model.add(LeakyReLU())\n",
    "model.add(Conv2D(64, (5, 5), padding='same'))\n",
    "model.add(BatchNormalization())\n",
    "model.add(LeakyReLU())\n",
    "model.add(MaxPooling2D((2, 2), strides=(2, 2)))\n",
    "\n",
    "model.add(Conv2D(128, (5, 5), padding='same'))\n",
    "model.add(BatchNormalization())\n",
    "model.add(LeakyReLU())\n",
    "model.add(Conv2D(128, (5, 5), padding='same'))\n",
    "model.add(BatchNormalization())\n",
    "model.add(LeakyReLU())\n",
    "model.add(MaxPooling2D((2, 2), strides=(2, 2)))\n",
    "\n",
    "model.add(Conv2D(256, (5, 5), padding='same'))\n",
    "model.add(BatchNormalization())\n",
    "model.add(LeakyReLU())\n",
    "model.add(Conv2D(256, (5, 5), padding='same'))\n",
    "model.add(BatchNormalization())\n",
    "model.add(LeakyReLU())\n",
    "model.add(Conv2D(256, (5, 5), padding='same'))\n",
    "model.add(BatchNormalization())\n",
    "\n",
    "model.add(GlobalAveragePooling2D())\n",
    "model.add(Dense(4))\n",
    "\n",
    "model.summary()"
   ]
  },
  {
   "cell_type": "code",
   "execution_count": 19,
   "metadata": {},
   "outputs": [],
   "source": [
    "def loss_function(y_true, y_pred):\n",
    "    return tf.square(y_true[:,0]-y_pred[:,0]) + tf.square(y_true[:,1]-y_pred[:,1]) + tf.square(tf.sqrt(tf.abs(y_true[:,2])) - tf.sqrt(tf.abs(y_pred[:,2]))) + tf.square(tf.sqrt(tf.abs(y_true[:,3])) - sqrt(abs(y_pred[:,3])))\n",
    "    "
   ]
  },
  {
   "cell_type": "code",
   "execution_count": null,
   "metadata": {},
   "outputs": [],
   "source": [
    "model.compile(optimizer=\"adam\", loss=loss_function)\n",
    "history = model.fit(X_train, Y_train, validation_data = (X_test, Y_test), verbose=1, batch_size=64, epochs=10)"
   ]
  },
  {
   "cell_type": "markdown",
   "metadata": {},
   "source": [
    "Afficher pour une des images de l'ensemble de validation le rectangle estimé par notre modèle à l'aide de la fonction show_img"
   ]
  },
  {
   "cell_type": "code",
   "execution_count": null,
   "metadata": {},
   "outputs": [],
   "source": [
    "import numpy as np\n",
    "def show_img(img, x0, y0, w0, h0):\n",
    "    plt.imshow(img)\n",
    "    x0 = np.abs(x0)\n",
    "    y0 = np.abs(y0)\n",
    "    w0 = np.abs(w0)\n",
    "    h0 = np.abs(h0)\n",
    "    x1 = (x0 - w0 /2)*256\n",
    "    x2 = (x0 + w0 /2)*256\n",
    "    y1 = (y0 - h0 /2)*256\n",
    "    y2 = (y0 + h0 /2)*256\n",
    "    plt.plot([x1,x1,x2,x1,x1], [y1,y1,y2,y2,y1], 'r')\n",
    "\n",
    "x0,y0,w0,h0 = model.predict(X_test[0])[0]\n",
    "show_img(X_test[0], x0, y0, w0, h0)"
   ]
  },
  {
   "cell_type": "markdown",
   "metadata": {},
   "source": [
    "- Exécuter la cellule suivante pour charger un modèle entrainé sur ce jeu de données plus de 5 heures"
   ]
  },
  {
   "cell_type": "markdown",
   "metadata": {},
   "source": [
    "- Afficher pour une des images de l'ensemble de validation le rectangle estimé par notre modèle à l'aide de la fonction show_img"
   ]
  },
  {
   "cell_type": "code",
   "execution_count": null,
   "metadata": {},
   "outputs": [],
   "source": [
    "x0,y0,w0,h0 = model.predict(X_test[0])[0]\n",
    "show_img(X_test[0], x0, y0, w0, h0)"
   ]
  },
  {
   "cell_type": "markdown",
   "metadata": {},
   "source": [
    "- Avec la fonction url_to_image, vous pouvez charger une image à partir d'un lien URL.\n",
    "- Prédire le rectangle encadrant le visage avec des images sur internet."
   ]
  },
  {
   "cell_type": "code",
   "execution_count": null,
   "metadata": {},
   "outputs": [],
   "source": [
    "import urllib\n",
    "import cv2\n",
    "def url_to_image(url):\n",
    "    resp = urllib.resquest.urlopen(url)\n",
    "    img = np.asarray(bytearray(resp.read()), dtype = 'uint8')\n",
    "    img = cv2.imdecode(img, -1)\n",
    "    img = cv2.resize(img[:,:,[2,1,0]], (256, 256))\n",
    "    return img\n",
    "\n",
    "##Example :\n",
    "img = url_to_image(\"https://starbyface.com/ImgBase/testPhoto/test1.jpg\")\n",
    "\n",
    "x0,y0,w0,h0 = model.predict(img)[0]\n",
    "show_img(img, x0, y0, w0, h0)"
   ]
  },
  {
   "cell_type": "markdown",
   "metadata": {},
   "source": [
    "# Evaluation : Intersection over Union (partie optionnelle)"
   ]
  },
  {
   "cell_type": "code",
   "execution_count": null,
   "metadata": {},
   "outputs": [],
   "source": [
    "import numpy as np\n",
    "\n",
    "def iou(y_true, y_pred):\n",
    "    x1 = tf.constant(y_true[0]) \n",
    "    y1 = tf.constant(y_true[1])\n",
    "    w1 = tf.constant(y_true[2])\n",
    "    h1 = tf.constant(y_true[3]) \n",
    "    x2 = tf.abs(tf.constant(y_pred[0]))\n",
    "    y2 = tf.abs(tf.constant(y_pred[1]))\n",
    "    w2 = tf.abs(tf.constant(y_pred[2]))\n",
    "    h2 = tf.abs(tf.constant(y_pred[3]))\n",
    "    xA = tf.maximum(x1 - w1/2, x2 - w2/2)\n",
    "    yA = tf.maximum(y1 - h1/2, y2 - h2/2)\n",
    "    xB = tf.minimum(x1 + w1/2, x2 + w2/2)\n",
    "    yB = tf.minimum(y1 + h1/2, y2 + h2/2)\n",
    "    A_inter = tf.matmul(tf.maximum(xB - xA, 0), tf.maximum(yB - yA, 0))\n",
    "    A_union = tf.matmul(w1,h1) + tf.matmul(w2,h2) - A_inter\n",
    "    return A_inter / A_union"
   ]
  },
  {
   "cell_type": "markdown",
   "metadata": {},
   "source": [
    "- Calculer la métrique IoU de notre modèle sur l'échantillon de validation"
   ]
  },
  {
   "cell_type": "code",
   "execution_count": null,
   "metadata": {},
   "outputs": [],
   "source": [
    "x_pred = []\n",
    "y_pred = []\n",
    "w_pred = []\n",
    "h_pred = []\n",
    "\n",
    "for img in X_test:\n",
    "    x0, y0, w0, h0 = model.predict(img)\n",
    "    x_pred.append(x0)\n",
    "    y_pred.append(y0)\n",
    "    w_pred.append(w0)\n",
    "    h_pred.append(h0)\n",
    "pred = pd.DataFrame({'x' : x_pred,\n",
    "                     'y' : y_pred,\n",
    "                     'w' : w_pred,\n",
    "                     'h' : h_pred})\n",
    "\n",
    "result_iou = iou(y_test, pred)\n",
    "print(result_iou)\n"
   ]
  }
 ],
 "metadata": {
  "kernelspec": {
   "display_name": "Python 3",
   "language": "python",
   "name": "python3"
  },
  "language_info": {
   "codemirror_mode": {
    "name": "ipython",
    "version": 3
   },
   "file_extension": ".py",
   "mimetype": "text/x-python",
   "name": "python",
   "nbconvert_exporter": "python",
   "pygments_lexer": "ipython3",
   "version": "3.7.7"
  }
 },
 "nbformat": 4,
 "nbformat_minor": 4
}

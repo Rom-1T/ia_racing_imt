{
 "cells": [
  {
   "cell_type": "markdown",
   "metadata": {
    "collapsed": true,
    "deletable": false,
    "editable": false,
    "function": "preliminary",
    "hide_input": false,
    "question_id": 1,
    "run_control": {
     "frozen": true
    }
   },
   "source": [
    "<img src=\"https://datascientest.fr/train/assets/logo_datascientest.png\" style=\"height:150px\">\n",
    "\n",
    "<hr style=\"border-width:2px;border-color:#75DFC1\">\n",
    "<center><h1>Introduction au Deep Learning avec Keras</h1></center>\n",
    "<center><h2>Exploration de données</h2></center>\n",
    "<hr style=\"border-width:2px;border-color:#75DFC1\">\n",
    "\n",
    "## Introduction\n",
    "\n",
    ">Depuis 2012, les algorithmes à base de deep learning (apprentissage profond) semblent prêts à résoudre bien des problèmes : reconnaitre des visages comme le propose DeepFace, vaincre des joueurs de go ou de poker ou bientôt permettre la conduite de voitures autonomes ou encore la recherche de cellules cancéreuses.\n",
    ">\n",
    ">Pourtant, les fondements de ces méthodes ne sont pas si récents : le deep learning a été formalisé en 2007 à partir des nouvelles architectures de réseaux de neurones dont les précurseurs sont McCulloch et Pitts en 1943. Suivront de nombreux développements comme le perceptron (neuronne artificiel), les réseaux de neurones convolutifs de Yann Le Cun et Yoshua Bengio en 1998 et les réseaux de neurones profonds qui en découlent en 2012 et ouvrent la voie à de nombreux champs d’application comme la vision (images), le traitement du langage (NLP) ou la reconnaissance de la parole (audio).\n",
    ">\n",
    ">**Pourquoi maintenant ?**\n",
    ">\n",
    ">>Parce que ces nouvelles techniques de machine learning profitent de la montée massive des données, ainsi que de capacités de calcul phénoménales grâce aux processeurs graphiques.\n",
    "\n",
    "## Objectif\n",
    "\n",
    ">L'objectif de cette formation est de familiariser avec des méthodes de machine learning plus poussées. Les méthodes de _deep learning_ ont fait leurs preuves récemment et grâce à des package comme **Keras** que nous utiliserons dans cette formation, ces outils sont maintenant dans les mains du plus grand nombre. Nous avons choisi le framework **Keras** pour sa facilité à implémenter des modèles complexe de Deep Learning.\n",
    ">\n",
    "> Nous allons travailler avec la base de données ***MNIST***. Cette base contient des images de chiffres manuscrits que nous tenterons de classifier suivant plusieurs méthodes de plus en plus poussées, en partant du simple ramdom Forest jusqu'à l'algorithme LeNet-5 développé spécifiquement pour cette base.\n",
    ">\n",
    "><img src=\"https://datascientest.fr/train/assets/lenet5.gif\" style=\"height:250px\">\n",
    "\n",
    "## Contexte\n",
    "\n",
    "> La base MNIST (\"Modified National Institute of Standards and Technology\") est une base de données de chiffres écrits à la main développée pour le problème de reconnaissance de chiffres manuscrits par trois chercheurs très réputés dans ce domaine: Yann LeCun, Corinna Cortes et Christopher Burges.\n",
    ">\n",
    "> Elle regroupe 70 000 images, issues d'une base de données antérieure, appelée NIST. \n",
    "> Ces images sont en échelle de gris, normalisées centrées et de taille 28x28 pixels.\n",
    "> Les images sont données ici sous forme de vecteurs unidimensionnels de taille 784 (= 28 x 28).\n",
    ">\n",
    ">Plus de détails sur les données MNIST dans le lien suivant: [MNIST](http://yann.lecun.com/exdb/mnist/index.html).<br>\n",
    ">Plus de détails sur le problème de reconnaissance de chiffres écrits à la main [ici](http://yann.lecun.com/exdb/publis/pdf/lecun-98.pdf).\n",
    "\n",
    "\n",
    "## Compétences requises\n",
    "\n",
    "> * Scikit-learn\n",
    "> * Matplotlib\n",
    "\n",
    "- Exécutez la cellule ci-dessous pour importer les modules nécessaires à l'exercice."
   ]
  },
  {
   "cell_type": "code",
   "execution_count": null,
   "metadata": {
    "collapsed": true,
    "function": "preliminary",
    "question_id": 1
   },
   "outputs": [],
   "source": [
    "%matplotlib inline\n",
    "import numpy as np # Pour la manipulation de tableaux\n",
    "\n",
    "import matplotlib.pyplot as plt # Pour l'affichage d'images\n",
    "from matplotlib import cm # Pour importer de nouvelles cartes de couleur\n",
    "\n",
    "from sklearn.model_selection import train_test_split # Pour répartir les données\n",
    "from keras.datasets.mnist import load_data # Pour importer le datasets mnist de Keras"
   ]
  },
  {
   "cell_type": "markdown",
   "metadata": {
    "deletable": false,
    "editable": false,
    "question_id": 1,
    "run_control": {
     "frozen": true
    }
   },
   "source": [
    "> Le module **`datasets`** de **keras** comprend un ensemble de sous module de jeu de données ([plus d'informations](https://keras.io/datasets/)). Pour charger un jeu de données de ses sous-modules, nous pouvons utiliser la fonction suivante :\n",
    "```\n",
    "from keras.datasets import cifar10\n",
    "(X_train, y_train), (X_test, y_test) = cifar10.load_data()\n",
    "```\n",
    "\n",
    "* Charger le dataset **mnist** à l'aide de la fonction `load_data` du sous module **mnist**. Appeler l'échantillon d'entraînement **X_train** et **y_train**, et l'échantillon de validation **X_test** et **y_test**.\n",
    "\n",
    "* Afficher la forme de **X_train** et **y_train**"
   ]
  },
  {
   "cell_type": "code",
   "execution_count": null,
   "metadata": {},
   "outputs": [],
   "source": []
  },
  {
   "cell_type": "markdown",
   "metadata": {
    "deletable": false,
    "editable": false,
    "function": "preliminary",
    "question_id": 1,
    "run_control": {
     "frozen": true
    }
   },
   "source": [
    "> Pour afficher des graphiques sur une grille de figures, on utilise la fonction [**`subplot`**](http://matplotlib.org/api/pyplot_api.html?highlight=subplot#matplotlib.pyplot.subplot) de *matplotlib.pyplot*.\n",
    ">\n",
    "> Les images originales sont en niveau de gris. Lors de leur affichage, il faut préciser à la fonction [**`imshow`**](https://matplotlib.org/api/pyplot_api.html#matplotlib.pyplot.imshow) que l'on souhaite visualiser les pixels en nuance de gris, en choisissant la carte de couleur (**cmap**) correspondante . Ici, on choisira `cm.binary` parmi les *colormaps* de `matplotlib` que nous avons importées.\n",
    "\n",
    "\n",
    "\n",
    "* Afficher, dans une grille de figures, 6 images tirées aléatoirement de l'échantillon **X_train**, avec en titre les labels correspondants de **y_train**. Pour chaque image il faudra :\n",
    "    * Sélectionner son emplacement dans la grille de figures.\n",
    "    * Afficher l'image en niveaux de gris en précisant la *colormap* **binary**.\n",
    "    * Afficher le label correspondant à l'image dans le titre.\n",
    "    \n",
    "<div class='alert alert-success'>\n",
    "<i class='fa fa-exclamation-circle'></i> &emsp;\n",
    "Les labels des images sont contenus dans le vecteur y_train.\n",
    "</div>\n",
    "\n",
    "<div class='alert alert-warning'>\n",
    "<i class='fa fa-exclamation-circle'></i> &emsp;\n",
    "Ici, il est nécessaire de préciser le paramètre 'cmap = cm.binary' dans la fonction imshow afin d'afficher l'image en niveaux de gris sur fond blanc.\n",
    "</div>"
   ]
  },
  {
   "cell_type": "code",
   "execution_count": null,
   "metadata": {
    "collapsed": true,
    "function": "solution",
    "question_id": 1
   },
   "outputs": [],
   "source": []
  },
  {
   "cell_type": "markdown",
   "metadata": {
    "collapsed": true,
    "deletable": false,
    "editable": false,
    "function": "preliminary",
    "question_id": 2,
    "run_control": {
     "frozen": true
    }
   },
   "source": [
    "> Pour se donner une idée plus précise de la forme des différents chiffres écrits, il est possible de procéder à quelques statistiques basées sur les pixels des images.\n",
    "\n",
    "* Pour chaque chiffre de 0 à 9, afficher **l'image moyenne** de l'échantillon X_train. Pour cela, pour chaque chiffre allant de 0 à 9, utiliser la méthode `mean` d'un *array* `numpy` pour calculer la moyenne de chaque pixel, en précisant '`axis = 0`' en paramètre de la méthode `mean` pour que la moyenne se fasse sur les images et non sur les lignes ou les colonnes.\n",
    "\n",
    "<div class=\"alert alert-success\">\n",
    "<i class=\"fa fa-info-circle\"></i> &emsp; \n",
    "Faire une boucle allant de 0 à 9 permettant de calculer l'image moyenne pour chaque chiffre séparément. À l'intérieur de la boucle, sélectionnez les images qui correspondent au bon label et calculez ensuite la moyenne. Enfin, affichez-la comme précédemment. \n",
    "</div>"
   ]
  },
  {
   "cell_type": "code",
   "execution_count": null,
   "metadata": {
    "function": "solution",
    "question_id": 2
   },
   "outputs": [],
   "source": []
  },
  {
   "cell_type": "markdown",
   "metadata": {
    "deletable": false,
    "editable": false,
    "function": "preliminary",
    "question_id": 3,
    "run_control": {
     "frozen": true
    }
   },
   "source": [
    "* Pour se donner une idée de la façon dont chaque chiffre varie dans son échantillon respectif, afficher pour chaque label entre 0 et 9 son **écart type** dans l'échantillon X_train , grâce à la méthode **`std`** d'un *array* `numpy`.\n",
    "\n",
    "<div class=\"alert alert-success\">\n",
    "<i class=\"fa fa-info-circle\"></i> &emsp; \n",
    "Il suffit de reprendre les mêmes étapes qu'à la question précédente, en remplaçant la méthode *mean* par la méthode *std*.\n",
    "</div>"
   ]
  },
  {
   "cell_type": "code",
   "execution_count": null,
   "metadata": {
    "collapsed": true,
    "function": "solution",
    "question_id": 3,
    "scrolled": true
   },
   "outputs": [],
   "source": []
  }
 ],
 "metadata": {
  "anaconda-cloud": {},
  "hide_input": false,
  "kernelspec": {
   "display_name": "Python3 default",
   "language": "python",
   "name": "python3"
  },
  "language_info": {
   "codemirror_mode": {
    "name": "ipython",
    "version": 3
   },
   "file_extension": ".py",
   "mimetype": "text/x-python",
   "name": "python",
   "nbconvert_exporter": "python",
   "pygments_lexer": "ipython3",
   "version": "3.8.3"
  },
  "latex_envs": {
   "LaTeX_envs_menu_present": true,
   "autoclose": false,
   "autocomplete": true,
   "bibliofile": "biblio.bib",
   "cite_by": "apalike",
   "current_citInitial": 1,
   "eqLabelWithNumbers": true,
   "eqNumInitial": 1,
   "hotkeys": {
    "equation": "Ctrl-E",
    "itemize": "Ctrl-I"
   },
   "labels_anchors": false,
   "latex_user_defs": false,
   "report_style_numbering": false,
   "user_envs_cfg": false
  },
  "n_questions": 3
 },
 "nbformat": 4,
 "nbformat_minor": 1
}

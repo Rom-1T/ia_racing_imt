{
 "cells": [
  {
   "cell_type": "markdown",
   "metadata": {
    "deletable": false,
    "editable": false,
    "function": "preliminary",
    "question_id": 1,
    "run_control": {
     "frozen": true
    }
   },
   "source": [
    "<img src=\"https://datascientest.fr/train/assets/logo_datascientest.png\" style=\"height:150px\">\n",
    "\n",
    "<hr style=\"border-width:2px;border-color:#75DFC1\">\n",
    "<center><h1>Introduction au Deep Learning avec Keras</h1></center>\n",
    "<center><h3>Prédiction à l'aide des <i>Convolutional Neural Networks</i> (CNN)</h3></center>\n",
    "<hr style=\"border-width:2px;border-color:#75DFC1\">\n",
    "\n",
    "\n",
    "\n",
    "## Contexte et objectif\n",
    "\n",
    "> Le principal objectif de l'exercice est d'apprendre à construire un réseau de neurones convolutif (*Convolutional Neural Network - CNN*) à l'aide du package **Keras**, et de montrer que cette architecture est plus adaptée à notre problème de classification.\n",
    ">\n",
    "> La principale différence entre les réseaux classiques (vus à l'étape précédente) et les réseaux de neurones convolutifs réside dans le type d'input et dans la transition entre les couches. \n",
    ">\n",
    "> Les CNN ont été construit pour traiter de la donnée de type **image** et les couches de convolution sont aujourd'hui vues comme les **meilleurs extracteurs de features** pour des problèmes de classification liés à l'image.\n",
    ">\n",
    ">\n",
    "> Nous allons construire un réseau de neurones convolutif comprenant plusieurs types de couches: des couches de **convolution** ainsi que des couches de **pooling** et de **dropout** pour régulariser notre modèle. \n",
    "\n",
    "\n",
    "## Compétences requises\n",
    "\n",
    "> * Scikit-learn\n",
    "> * Matplotlib\n",
    "> * Pandas pour la Data Science\n",
    "\n",
    "* Exécutez la cellule ci-dessous pour importer les modules nécessaires à l'exercice."
   ]
  },
  {
   "cell_type": "code",
   "execution_count": 1,
   "metadata": {
    "function": "preliminary",
    "question_id": 1
   },
   "outputs": [
    {
     "name": "stderr",
     "output_type": "stream",
     "text": [
      "Using TensorFlow backend.\n"
     ]
    }
   ],
   "source": [
    "%matplotlib inline\n",
    "import numpy as np\n",
    "\n",
    "from keras.models import Sequential\n",
    "from keras.layers import Dense\n",
    "from keras.layers import Dropout \n",
    "from keras.layers import Flatten\n",
    "from keras.layers.convolutional import Conv2D \n",
    "from keras.layers.convolutional import MaxPooling2D\n",
    "from keras.utils import np_utils \n",
    "\n",
    "from sklearn import metrics\n",
    "\n",
    "import matplotlib.pyplot as plt\n",
    "from matplotlib import cm\n",
    "\n",
    "import itertools"
   ]
  },
  {
   "cell_type": "markdown",
   "metadata": {
    "deletable": false,
    "editable": false,
    "function": "preliminary",
    "question_id": 1,
    "run_control": {
     "frozen": true
    }
   },
   "source": [
    "* Recupérer les données d'entraînements et de validations en exécutant la cellule suivante."
   ]
  },
  {
   "cell_type": "code",
   "execution_count": 2,
   "metadata": {},
   "outputs": [
    {
     "name": "stdout",
     "output_type": "stream",
     "text": [
      "Shape of X: (60000, 784)\n",
      "Shape of y: (60000,)\n"
     ]
    }
   ],
   "source": [
    "# Pour importer le datasets mnist de Keras\n",
    "from keras.datasets.mnist import load_data\n",
    "\n",
    "# Chargement des données MNIST\n",
    "(X_train, y_train), (X_test, y_test) = load_data()\n",
    "\n",
    "# Changer la forme de X_train et X_test\n",
    "X_train = X_train.reshape([-1, 28*28])\n",
    "X_test = X_test.reshape([-1, 28*28])\n",
    "\n",
    "# Shape of X_train and y_train\n",
    "print('Shape of X:', X_train.shape)\n",
    "print('Shape of y:',y_train.shape)"
   ]
  },
  {
   "cell_type": "markdown",
   "metadata": {
    "deletable": false,
    "editable": false,
    "function": "preliminary",
    "question_id": 1,
    "run_control": {
     "frozen": true
    }
   },
   "source": [
    "> De manière générale les images en couleurs sont composées de 3 canaux rouge vert et bleu de 28x28 pixels superposés les uns sur les autres. Nos images étant en niveaux de gris, elles n'ont qu'un seul canal (profondeur = 1).\n",
    "\n",
    "* Transformer les données **`X_train`** en un tableau à 4 dimensions (nb_images, largeur, hauteur, profondeur). Chacune des images sera ainsi redimensionnée au format (28,28,1).\n",
    "\n",
    "\n",
    "* Faire de même pour les données **`X_test`**."
   ]
  },
  {
   "cell_type": "code",
   "execution_count": 4,
   "metadata": {
    "collapsed": true,
    "function": "submission",
    "question_id": 1
   },
   "outputs": [],
   "source": []
  },
  {
   "cell_type": "code",
   "execution_count": null,
   "metadata": {
    "collapsed": true,
    "function": "solution",
    "question_id": 1
   },
   "outputs": [],
   "source": []
  },
  {
   "cell_type": "markdown",
   "metadata": {
    "deletable": false,
    "editable": false,
    "function": "preliminary",
    "question_id": 1,
    "run_control": {
     "frozen": true
    }
   },
   "source": [
    "* Diviser les pixels des données **`X_train`** et **`X_test`** par 255 afin qu'ils soient compris entre 0 et 1.\n",
    "\n",
    "\n",
    "* Transformer les labels de **`y_train`** et **`y_test`** en vecteurs catégorielles binaires (*one hot*), grâce à la fonction `to_categorical` du sous-module `np_utils` de `keras`."
   ]
  },
  {
   "cell_type": "code",
   "execution_count": 5,
   "metadata": {
    "collapsed": true,
    "function": "submission",
    "question_id": 2
   },
   "outputs": [],
   "source": []
  },
  {
   "cell_type": "code",
   "execution_count": null,
   "metadata": {
    "collapsed": true,
    "function": "solution"
   },
   "outputs": [],
   "source": []
  },
  {
   "cell_type": "markdown",
   "metadata": {
    "deletable": false,
    "editable": false,
    "function": "preliminary",
    "question_id": 1,
    "run_control": {
     "frozen": true
    }
   },
   "source": [
    "## Construction de l'architecture CNN\n",
    "\n",
    "> On rappelle qu'un neurone de convolution contient un noyau avec lequel il effectue le produit de convolution avec les différents *patchs* de l'image.\n",
    ">\n",
    "> Dans une couche de neurones de convolution, chaque neurone possède son propre noyau de convolution. L'entraînement de cette couche consiste à trouver les noyaux les plus performants pour la classification.\n",
    ">\n",
    "> En général, les couches de convolution sont suivies par des couches de *pooling* afin de réduire progressivement la dimension de l'entrée. Ceci permet à la fois de régulariser le modèle (en diminuant les risques d'overfitting) et d'améliorer la performance de l'algorithme en termes de temps de calcul et d'utilisation de mémoire.\n",
    ">\n",
    "> Pour ajouter une couche de convolution à un modèle séquentiel, il suffit comme pour les couches denses de l'instancier avec le constructeur correspondant. Pour les couches de convolution, il s'agit du constructeur **`Conv2D`** qui contient différents paramètres:\n",
    ">\n",
    "> * **filters** : Un entier correspondant au nombre de matrice de convolution dans la couche.\n",
    ">\n",
    "> * **kernel_size** : Un couple d'entiers correspondant aux dimensions du noyau de convolution.\n",
    ">\n",
    "> * **padding** : détermine si le noyau a le droit de dépasser le bord de l'image.\n",
    ">\n",
    "> * **input_shape** : n-uplet correspondant aux dimensions de l'image d'entrée. Doit absolument être précisé dans la première couche.\n",
    ">\n",
    ">* **data_format** : détermine quelle dimension de l'input correspond à quelle dimension de l'image.\n",
    ">\n",
    "> * **activation** : fonction d'activation qui sera appliquée à chaque case de la sortie du neurone.\n",
    "\n",
    "* Instancier un nouveau modèle séquentiel appelé **model** à l'aide du constructeur `Sequential`.\n",
    "\n",
    "\n",
    "* Instancier une couche de convolution appelée **first_layer** à l'aide du constructeur `Conv2D` avec les paramètres suivants:\n",
    "    * `filters = 32` : La couche sera composée de 32 matrices de convolution.\n",
    "    * `kernel_size = (5, 5)` : le noyau de convolution sera de dimension 5x5 (25 neuronnes par filtre).\n",
    "    * `padding = 'valid'` : pour que le noyau ne puisse pas dépasser les bords de l'image.\n",
    "    * `input_shape = (28, 28, 1)` : l'image passé en entrée aura 28 pixels de hauteur, 28 pixels de largeur et 1 canal.\n",
    "    * `activation = 'relu'`.\n",
    "    \n",
    "    \n",
    "* Instancier une couche de *max-pooling* appelé **second_layer** à l'aide du constructeur `MaxPooling2D` avec le paramètre `pool_size = (2, 2)` pour que le maximum soit calculé sur des morceaux de dimensions 2x2.\n",
    "\n",
    "\n",
    "* Ajouter les couches au modèle à l'aide de sa méthode `add`. Il faudra les ajouter dans l'ordre."
   ]
  },
  {
   "cell_type": "code",
   "execution_count": 6,
   "metadata": {
    "function": "submission",
    "question_id": 3
   },
   "outputs": [
    {
     "ename": "NameError",
     "evalue": "name 'MaxPoooling2D' is not defined",
     "output_type": "error",
     "traceback": [
      "\u001b[0;31m---------------------------------------------------------------------------\u001b[0m",
      "\u001b[0;31mNameError\u001b[0m                                 Traceback (most recent call last)",
      "\u001b[0;32m<ipython-input-6-a1f80904e3f2>\u001b[0m in \u001b[0;36m<module>\u001b[0;34m\u001b[0m\n\u001b[1;32m      3\u001b[0m \u001b[0mfirst_layer\u001b[0m \u001b[0;34m=\u001b[0m \u001b[0mConv2D\u001b[0m\u001b[0;34m(\u001b[0m\u001b[0mfilters\u001b[0m \u001b[0;34m=\u001b[0m \u001b[0;36m32\u001b[0m\u001b[0;34m,\u001b[0m \u001b[0mkernel_size\u001b[0m \u001b[0;34m=\u001b[0m \u001b[0;34m(\u001b[0m\u001b[0;36m5\u001b[0m\u001b[0;34m,\u001b[0m \u001b[0;36m5\u001b[0m\u001b[0;34m)\u001b[0m\u001b[0;34m,\u001b[0m \u001b[0mpadding\u001b[0m \u001b[0;34m=\u001b[0m \u001b[0;34m'valid'\u001b[0m\u001b[0;34m,\u001b[0m \u001b[0minput_shape\u001b[0m \u001b[0;34m=\u001b[0m \u001b[0;34m(\u001b[0m\u001b[0;36m28\u001b[0m\u001b[0;34m,\u001b[0m \u001b[0;36m28\u001b[0m\u001b[0;34m,\u001b[0m \u001b[0;36m1\u001b[0m\u001b[0;34m)\u001b[0m\u001b[0;34m,\u001b[0m \u001b[0mactivation\u001b[0m \u001b[0;34m=\u001b[0m \u001b[0;34m'relu'\u001b[0m\u001b[0;34m)\u001b[0m\u001b[0;34m\u001b[0m\u001b[0m\n\u001b[1;32m      4\u001b[0m \u001b[0;34m\u001b[0m\u001b[0m\n\u001b[0;32m----> 5\u001b[0;31m \u001b[0msecond_layer\u001b[0m \u001b[0;34m=\u001b[0m \u001b[0mMaxPoooling2D\u001b[0m\u001b[0;34m(\u001b[0m\u001b[0mpool_size\u001b[0m \u001b[0;34m=\u001b[0m \u001b[0;34m(\u001b[0m\u001b[0;36m2\u001b[0m\u001b[0;34m,\u001b[0m \u001b[0;36m2\u001b[0m\u001b[0;34m)\u001b[0m\u001b[0;34m)\u001b[0m\u001b[0;34m\u001b[0m\u001b[0m\n\u001b[0m\u001b[1;32m      6\u001b[0m \u001b[0;34m\u001b[0m\u001b[0m\n\u001b[1;32m      7\u001b[0m \u001b[0mmodel\u001b[0m\u001b[0;34m.\u001b[0m\u001b[0madd\u001b[0m\u001b[0;34m(\u001b[0m\u001b[0mfirst_layer\u001b[0m\u001b[0;34m)\u001b[0m\u001b[0;34m\u001b[0m\u001b[0m\n",
      "\u001b[0;31mNameError\u001b[0m: name 'MaxPoooling2D' is not defined"
     ]
    }
   ],
   "source": []
  },
  {
   "cell_type": "code",
   "execution_count": 7,
   "metadata": {
    "collapsed": true,
    "function": "solution",
    "question_id": 3
   },
   "outputs": [],
   "source": []
  },
  {
   "cell_type": "markdown",
   "metadata": {
    "deletable": false,
    "editable": false,
    "function": "preliminary",
    "question_id": 1,
    "run_control": {
     "frozen": true
    }
   },
   "source": [
    "* Instancier une couche de *dropout* appelée **third_layer** à l'aide du constructeur `Dropout` avec le paramètre `rate = 0.2` pour couper 20% des connections entre la couche précédente et la couche suivante.\n",
    "\n",
    "\n",
    "* Instancier une couche d'applatissement appelée **fourth_layer** à l'aide du constructeur `Flatten`. Cette couche ne prends pas de paramètre et permet juste d'aplatir un vecteur en une matrice. Cette transformation est nécessaire pour la suite car les couches denses ne prennent que des vecteurs en entrée et non des matrices.\n",
    "\n",
    "\n",
    "* Instancier une couche dense appelée **fifth_layer** à l'aide du constructeur `Dense` avec 128 neurones et la fonction d'activation *ReLU*.\n",
    "\n",
    "\n",
    "\n",
    "* Instancier une couche dense appelée **output_layer** avec 10 neurones (pour 10 classes d'output) et une fonction d'activation *softmax* pour renvoyer des prédictions de probabilité pour chaque classe.  \n",
    " \n",
    " \n",
    "* Ajouter toutes ces couches au modèle."
   ]
  },
  {
   "cell_type": "code",
   "execution_count": 9,
   "metadata": {
    "collapsed": true,
    "function": "submission",
    "question_id": 4
   },
   "outputs": [],
   "source": []
  },
  {
   "cell_type": "code",
   "execution_count": null,
   "metadata": {
    "collapsed": true,
    "function": "solution",
    "question_id": 4
   },
   "outputs": [],
   "source": []
  },
  {
   "cell_type": "markdown",
   "metadata": {
    "deletable": false,
    "editable": false,
    "function": "preliminary",
    "question_id": 1,
    "run_control": {
     "frozen": true
    }
   },
   "source": [
    "* Compiler le modèle en utilisant la fonction de perte **`'categorical_crossentropy'`**, l'algorithme de descente de gradient **`'adam'`** comme `optimizer`, ainsi que la métrique  **`['accuracy']`**. \n",
    "\n",
    "\n",
    "* Entraîner le modèle avec les données d'entraînement sur 10 *epochs*, des *batchs* de taille 200 et un *split* de validation de 0,2. Stocker la sortie de l'entraînement dans une variable nommée **training_history**."
   ]
  },
  {
   "cell_type": "code",
   "execution_count": null,
   "metadata": {
    "function": "submission",
    "question_id": 5
   },
   "outputs": [],
   "source": []
  },
  {
   "cell_type": "code",
   "execution_count": null,
   "metadata": {
    "collapsed": true,
    "function": "solution",
    "question_id": 5
   },
   "outputs": [],
   "source": []
  },
  {
   "cell_type": "markdown",
   "metadata": {
    "deletable": false,
    "editable": false,
    "function": "preliminary",
    "question_id": 1,
    "run_control": {
     "frozen": true
    }
   },
   "source": [
    "* Lancer la cellule suivante pour stocker les précisions d'entraînement et de validation obtenues pendant l'entraînement."
   ]
  },
  {
   "cell_type": "code",
   "execution_count": 11,
   "metadata": {
    "collapsed": true
   },
   "outputs": [],
   "source": [
    "train_acc = training_history.history['accuracy']\n",
    "val_acc = training_history.history['val_accuracy']"
   ]
  },
  {
   "cell_type": "markdown",
   "metadata": {
    "deletable": false,
    "editable": false,
    "function": "preliminary",
    "question_id": 1,
    "run_control": {
     "frozen": true
    }
   },
   "source": [
    "* Tracer l'évolution des précisions tout au long de l'entraînement."
   ]
  },
  {
   "cell_type": "code",
   "execution_count": null,
   "metadata": {
    "collapsed": true,
    "function": "solution"
   },
   "outputs": [],
   "source": []
  },
  {
   "cell_type": "markdown",
   "metadata": {
    "deletable": false,
    "editable": false,
    "function": "preliminary",
    "question_id": 1,
    "run_control": {
     "frozen": true
    }
   },
   "source": [
    "* Prédire les classes de l'échantillon **X_test** à l'aide de la méthode `predict` du modèle. Stocker le résultat dans un tableau nommé **test_pred**.\n",
    "\n",
    "\n",
    "* Appliquer la méthode `argmax` sur les tableaux **test_pred** et **y_test** pour obtenir des vecteurs d'entiers correspondant aux classes prédites et réelles. Il faudra passer l'argument '`axis = 1`' pour que l'argmax soit calculée sur les colonnes et non les lignes. Stocker les sorties des appels de la méthode `argmax` dans des tableaux nommés **test_pred_class** et **y_test_class**.\n",
    "\n",
    "\n",
    "* Afficher un compte-rendu évaluatif détaillé de la perfomance du modèle grâce à la fonction `classification_report` du sous-module **metrics** de **scikit-learn**."
   ]
  },
  {
   "cell_type": "code",
   "execution_count": null,
   "metadata": {},
   "outputs": [],
   "source": []
  },
  {
   "cell_type": "code",
   "execution_count": null,
   "metadata": {
    "collapsed": true,
    "function": "solution",
    "question_id": 9
   },
   "outputs": [],
   "source": []
  },
  {
   "cell_type": "markdown",
   "metadata": {
    "deletable": false,
    "editable": false,
    "function": "preliminary",
    "question_id": 1,
    "run_control": {
     "frozen": true
    }
   },
   "source": [
    "> La perfomance de notre modèle est encore plus robuste que celle du modèle dense de l'exercice précédent. La précision est maintenant de 99%, soit 4% de plus que le modèle précédent.\n",
    "\n",
    "\n",
    "* Calculer et afficher la matrice de confusion entre **y_test_class** et **test_pred_class**, appelée **cnf_matrix**, grâce à la fonction `confusion_matrix` du sous-module **metrics** de **scikit-learn**. "
   ]
  },
  {
   "cell_type": "code",
   "execution_count": null,
   "metadata": {},
   "outputs": [],
   "source": []
  },
  {
   "cell_type": "code",
   "execution_count": null,
   "metadata": {
    "function": "solution"
   },
   "outputs": [],
   "source": []
  },
  {
   "cell_type": "markdown",
   "metadata": {
    "deletable": false,
    "editable": false,
    "function": "preliminary",
    "question_id": 1,
    "run_control": {
     "frozen": true
    }
   },
   "source": [
    "> Le modèle a toujours un peu de mal avec les chiffres 3 et 5, mais si on regarde les images sur lesquelles le modèle s'est trompé, il devient difficile de lui en vouloir.\n",
    "\n",
    "* Lancer la cellule suivante pour afficher des images sur lesquelles le modèle s'est trompé. Vous pouvez la relancer plusieurs fois pour afficher d'autres images."
   ]
  },
  {
   "cell_type": "code",
   "execution_count": 18,
   "metadata": {},
   "outputs": [
    {
     "data": {
      "image/png": "[encoded data removed]",
      "text/plain": [
       "<Figure size 432x288 with 3 Axes>"
      ]
     },
     "metadata": {
      "needs_background": "light"
     },
     "output_type": "display_data"
    }
   ],
   "source": [
    "error_indexes = []\n",
    "for i in range(len(test_pred)):\n",
    "    if (test_pred_class[i] != y_test_class[i]):\n",
    "        if(y_test_class[i] == 5 or y_test_class[i] == 3):\n",
    "            if(test_pred_class[i] == 5 or test_pred_class[i] == 3):\n",
    "                error_indexes += [i]\n",
    "\n",
    "j = 1\n",
    "for i in np.random.choice(error_indexes, size = 3):\n",
    "    img = X_test[i] \n",
    "    img = img.reshape(28, 28)\n",
    "    \n",
    "    plt.subplot(1, 3, j)\n",
    "    j = j + 1\n",
    "    plt.axis('off')\n",
    "    plt.imshow(img, cmap=cm.binary, interpolation='None')\n",
    "    plt.title('True Label: ' + str(y_test_class[i]) \\\n",
    "              + '\\n' + 'Prediction: '+ str(test_pred_class[i]) \\\n",
    "              + '\\n' + 'Confidence: '+ str(round(test_pred[i][test_pred_class[i]], 2)))\n",
    "    "
   ]
  }
 ],
 "metadata": {
  "anaconda-cloud": {},
  "hide_input": false,
  "kernelspec": {
   "display_name": "Default Python 3",
   "language": "python",
   "name": "python3"
  },
  "language_info": {
   "codemirror_mode": {
    "name": "ipython",
    "version": 3
   },
   "file_extension": ".py",
   "mimetype": "text/x-python",
   "name": "python",
   "nbconvert_exporter": "python",
   "pygments_lexer": "ipython3",
   "version": "3.8.3"
  },
  "latex_envs": {
   "LaTeX_envs_menu_present": true,
   "autoclose": false,
   "autocomplete": true,
   "bibliofile": "biblio.bib",
   "cite_by": "apalike",
   "current_citInitial": 1,
   "eqLabelWithNumbers": true,
   "eqNumInitial": 1,
   "hotkeys": {
    "equation": "Ctrl-E",
    "itemize": "Ctrl-I"
   },
   "labels_anchors": false,
   "latex_user_defs": false,
   "report_style_numbering": false,
   "user_envs_cfg": false
  },
  "n_questions": 10
 },
 "nbformat": 4,
 "nbformat_minor": 1
}

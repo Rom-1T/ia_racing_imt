{
 "cells": [
  {
   "cell_type": "markdown",
   "metadata": {
    "deletable": false,
    "editable": false,
    "run_control": {
     "frozen": true
    }
   },
   "source": [
    "<img src=\"https://datascientest.fr/train/assets/logo_datascientest.png\" style=\"height:150px\">\n",
    "\n",
    "\n",
    "<hr style=\"border-width:2px;border-color:#75DFC1\">\n",
    "<center><h1>Introduction au Deep Learning avec Keras</h1></center>\n",
    "<center><h2>Transfer Learning</h2></center>\n",
    "<hr style=\"border-width:2px;border-color:#75DFC1\">\n",
    "\n",
    "\n",
    "## Contexte et objectif\n",
    "\n",
    "> Dans les exercices précedents, nous nous sommes essentiellement intéressé à classifier les chiffres manuscrits. Nous avons pu remarquer qu'un algorithme classique comme un **SVM** ou un **RandomForest** nous donnait une estimation proche de la réalitée. Ce n'est plus le cas pour des problèmes de classification plus complexes (ex : classifier des images de chats ou de chiens).\n",
    ">\n",
    ">Dans cet exercice, nous allons travailler sur des images de tableau publié sur Kaggle. Le jeu de données sous forme de CSV comprend le chemin de l'image du tableau et le nom du peintre.\n",
    ">\n",
    "><img src =\"https://datascientest.fr/train/assets/python_keras_picasso_aubade.jpg\" style = \"width:400px\">\n",
    ">\n",
    ">L'objectif de cet exercice est d'avoir un aperçu plus large du *transfer learning* et des possibilités du Deep Learning. Nous allons effectuer dans un premier temps une exploration des données. Puis, nous allons utiliser un modèle convolutionnel déjà pré-entrainé avec le jeu de données **imageNet**. Dans la conclusion de l'exercice, nous allons tester un modèle hybride combinant une partie du modèle convolutionnel précédent (extraction de caractéristiques) et un SVM (classification).\n",
    "\n",
    "## Compétences requises\n",
    "\n",
    "> * Scikit-learn\n",
    "> * Matplotlib ou Seaborn\n",
    "> * Pandas pour la Data Science\n",
    "\n",
    "* Exécutez la cellule ci-dessous pour importer les modules nécessaires à l'exercice."
   ]
  },
  {
   "cell_type": "code",
   "execution_count": 1,
   "metadata": {
    "colab": {
     "base_uri": "https://localhost:8080/",
     "height": 34
    },
    "colab_type": "code",
    "id": "XKk9p3OJ20JP",
    "outputId": "b0566f05-736f-45ff-d856-76d2cdd6b7ec"
   },
   "outputs": [
    {
     "name": "stderr",
     "output_type": "stream",
     "text": [
      "Using TensorFlow backend.\n"
     ]
    }
   ],
   "source": [
    "%matplotlib inline\n",
    "import numpy as np\n",
    "\n",
    "import matplotlib.pyplot as plt\n",
    "import time, cv2\n",
    "import seaborn as sns\n",
    "\n",
    "import pandas as pd\n",
    "from sklearn.model_selection import train_test_split\n",
    "\n",
    "from keras.layers import Dense, Dropout, Flatten, GlobalAveragePooling2D\n",
    "from keras.optimizers import Adam\n",
    "from keras.models import Model, Sequential\n",
    "from keras.preprocessing.image import ImageDataGenerator\n",
    "import keras\n",
    "from keras import backend as K"
   ]
  },
  {
   "cell_type": "markdown",
   "metadata": {
    "deletable": false,
    "editable": false,
    "run_control": {
     "frozen": true
    }
   },
   "source": [
    "## Exploration des données\n",
    "\n",
    "* Importer le fichier *artists.csv* dans un DataFrame appelé **`artists`**\n",
    "* Afficher les 5 premières valeurs."
   ]
  },
  {
   "cell_type": "code",
   "execution_count": null,
   "metadata": {},
   "outputs": [],
   "source": []
  },
  {
   "cell_type": "code",
   "execution_count": null,
   "metadata": {
    "colab": {
     "base_uri": "https://localhost:8080/",
     "height": 204
    },
    "colab_type": "code",
    "collapsed": true,
    "function": "solution",
    "id": "jJCDwilm20J2",
    "outputId": "04f058a6-7bde-40cd-f731-3e448c6a3c0b"
   },
   "outputs": [],
   "source": []
  },
  {
   "cell_type": "markdown",
   "metadata": {
    "deletable": false,
    "editable": false,
    "run_control": {
     "frozen": true
    }
   },
   "source": [
    "* Afficher le **nombre de peintres** en fonction de leur nationnalité sous forme d'un graphique en barre."
   ]
  },
  {
   "cell_type": "code",
   "execution_count": null,
   "metadata": {},
   "outputs": [],
   "source": []
  },
  {
   "cell_type": "code",
   "execution_count": null,
   "metadata": {
    "colab": {},
    "colab_type": "code",
    "collapsed": true,
    "function": "solution",
    "id": "UAw3YtMm20KS",
    "outputId": "1e43900d-f92a-41fb-ba08-8edf071f69d6"
   },
   "outputs": [],
   "source": []
  },
  {
   "cell_type": "markdown",
   "metadata": {
    "deletable": false,
    "editable": false,
    "run_control": {
     "frozen": true
    }
   },
   "source": [
    "* Afficher le **nombre de tableau** en fonction de la nationalité des peintres sous forme d'un graphique en barre."
   ]
  },
  {
   "cell_type": "code",
   "execution_count": 4,
   "metadata": {},
   "outputs": [
    {
     "data": {
      "image/png": "[encoded data removed]",
      "text/plain": [
       "<Figure size 1080x432 with 1 Axes>"
      ]
     },
     "metadata": {
      "needs_background": "light"
     },
     "output_type": "display_data"
    }
   ],
   "source": [
    "plt.figure(figsize=(15,6))\n",
    "df2 = artists.groupby(\"nationality\").sum()\n",
    "df2[\"paintings\"].plot.bar();\n"
   ]
  },
  {
   "cell_type": "code",
   "execution_count": null,
   "metadata": {
    "colab": {},
    "colab_type": "code",
    "function": "solution",
    "id": "UAw3YtMm20KS",
    "outputId": "1e43900d-f92a-41fb-ba08-8edf071f69d6",
    "scrolled": true
   },
   "outputs": [],
   "source": []
  },
  {
   "cell_type": "markdown",
   "metadata": {
    "deletable": false,
    "editable": false,
    "run_control": {
     "frozen": true
    }
   },
   "source": [
    "* Importer le fichier <strong>file.csv</strong> dans un DataFrame appelé <strong>df</strong>.\n",
    "* Afficher les 5 premières valeurs."
   ]
  },
  {
   "cell_type": "code",
   "execution_count": 5,
   "metadata": {},
   "outputs": [
    {
     "data": {
      "text/html": [
       "<div>\n",
       "<style scoped>\n",
       "    .dataframe tbody tr th:only-of-type {\n",
       "        vertical-align: middle;\n",
       "    }\n",
       "\n",
       "    .dataframe tbody tr th {\n",
       "        vertical-align: top;\n",
       "    }\n",
       "\n",
       "    .dataframe thead th {\n",
       "        text-align: right;\n",
       "    }\n",
       "</style>\n",
       "<table border=\"1\" class=\"dataframe\">\n",
       "  <thead>\n",
       "    <tr style=\"text-align: right;\">\n",
       "      <th></th>\n",
       "      <th>img_paths</th>\n",
       "      <th>artists</th>\n",
       "      <th>class</th>\n",
       "    </tr>\n",
       "  </thead>\n",
       "  <tbody>\n",
       "    <tr>\n",
       "      <th>0</th>\n",
       "      <td>images/Albrecht_Durer/Albrecht_Durer_1.jpg</td>\n",
       "      <td>Albrecht_Durer</td>\n",
       "      <td>0</td>\n",
       "    </tr>\n",
       "    <tr>\n",
       "      <th>1</th>\n",
       "      <td>images/Albrecht_Durer/Albrecht_Durer_10.jpg</td>\n",
       "      <td>Albrecht_Durer</td>\n",
       "      <td>0</td>\n",
       "    </tr>\n",
       "    <tr>\n",
       "      <th>2</th>\n",
       "      <td>images/Albrecht_Durer/Albrecht_Durer_100.jpg</td>\n",
       "      <td>Albrecht_Durer</td>\n",
       "      <td>0</td>\n",
       "    </tr>\n",
       "    <tr>\n",
       "      <th>3</th>\n",
       "      <td>images/Albrecht_Durer/Albrecht_Durer_101.jpg</td>\n",
       "      <td>Albrecht_Durer</td>\n",
       "      <td>0</td>\n",
       "    </tr>\n",
       "    <tr>\n",
       "      <th>4</th>\n",
       "      <td>images/Albrecht_Durer/Albrecht_Durer_102.jpg</td>\n",
       "      <td>Albrecht_Durer</td>\n",
       "      <td>0</td>\n",
       "    </tr>\n",
       "  </tbody>\n",
       "</table>\n",
       "</div>"
      ],
      "text/plain": [
       "                                      img_paths         artists  class\n",
       "0    images/Albrecht_Durer/Albrecht_Durer_1.jpg  Albrecht_Durer      0\n",
       "1   images/Albrecht_Durer/Albrecht_Durer_10.jpg  Albrecht_Durer      0\n",
       "2  images/Albrecht_Durer/Albrecht_Durer_100.jpg  Albrecht_Durer      0\n",
       "3  images/Albrecht_Durer/Albrecht_Durer_101.jpg  Albrecht_Durer      0\n",
       "4  images/Albrecht_Durer/Albrecht_Durer_102.jpg  Albrecht_Durer      0"
      ]
     },
     "execution_count": 5,
     "metadata": {},
     "output_type": "execute_result"
    }
   ],
   "source": [
    "df = pd.read_csv('file.csv')\n",
    "df.head()\n",
    "\n"
   ]
  },
  {
   "cell_type": "code",
   "execution_count": null,
   "metadata": {
    "colab": {
     "base_uri": "https://localhost:8080/",
     "height": 204
    },
    "colab_type": "code",
    "collapsed": true,
    "function": "solution",
    "id": "g34JX-4920Kt",
    "outputId": "8cb50e5d-ed1a-4eb1-dbb0-171dd9717e25"
   },
   "outputs": [],
   "source": [
    "df = pd.read_csv(\"file.csv\")\n",
    "df.head()"
   ]
  },
  {
   "cell_type": "markdown",
   "metadata": {
    "deletable": false,
    "editable": false,
    "run_control": {
     "frozen": true
    }
   },
   "source": [
    "* Afficher le **nombre de tableau** en fonction du peintre sous forme de graphique en barre."
   ]
  },
  {
   "cell_type": "code",
   "execution_count": 6,
   "metadata": {},
   "outputs": [
    {
     "data": {
      "image/png": "[encoded data removed]",
      "text/plain": [
       "<Figure size 1152x720 with 1 Axes>"
      ]
     },
     "metadata": {
      "needs_background": "light"
     },
     "output_type": "display_data"
    }
   ],
   "source": [
    "plt.figure(figsize=(16,10))\n",
    "df[\"artists\"].value_counts().plot.bar();\n",
    "\n",
    "\n"
   ]
  },
  {
   "cell_type": "code",
   "execution_count": null,
   "metadata": {
    "colab": {},
    "colab_type": "code",
    "collapsed": true,
    "function": "solution",
    "id": "5Ujixkom20LH",
    "outputId": "bcfbe51f-b058-42f1-d491-2b87cdca0b60"
   },
   "outputs": [],
   "source": [
    "plt.figure(figsize=(16,10))\n",
    "df[\"artists\"].value_counts().plot.bar();"
   ]
  },
  {
   "cell_type": "markdown",
   "metadata": {
    "deletable": false,
    "editable": false,
    "run_control": {
     "frozen": true
    }
   },
   "source": [
    "> Pour une question de puissance de calcule, nous n'allons que prendre les 10 premiers peintres du jeu de données.\n",
    "\n",
    "* Définir un nouveau dataframe sous le nom **data** ne prenant que les **10 premières classes**.\n",
    "* Séparer le jeu de données **df** en un ensemble d'entraînement **data_train** et en un ensemble de test **data_test**. Nous choisirons un rapport de 80% pour les données d'entraînements. "
   ]
  },
  {
   "cell_type": "code",
   "execution_count": 7,
   "metadata": {
    "collapsed": true
   },
   "outputs": [],
   "source": [
    "n_class = 10\n",
    "data = df[df[\"class\"].isin(range(n_class))]\n",
    "data_train, data_test = train_test_split(data, test_size=0.2, random_state=123)\n",
    "\n"
   ]
  },
  {
   "cell_type": "code",
   "execution_count": null,
   "metadata": {
    "collapsed": true,
    "function": "solution"
   },
   "outputs": [],
   "source": [
    "n_class = 10\n",
    "data = df[df[\"class\"].isin(range(n_class))]\n",
    "data_train, data_test = train_test_split(data, test_size=0.2, random_state=123)"
   ]
  },
  {
   "cell_type": "markdown",
   "metadata": {
    "deletable": false,
    "editable": false,
    "run_control": {
     "frozen": true
    }
   },
   "source": [
    "<hr style=\"border-width:2px;border-color:#75DFC1\">\n",
    "<h2 style = \"text-align:center\" > Générateur de données </h2> \n",
    "<hr style=\"border-width:2px;border-color:#75DFC1\">\n",
    "\n",
    "> L'un des meilleurs moyens d'améliorer la performance d'un modèle de Deeplearning consiste à ajouter davantage de données à l'ensemble d'entraînement. **Dans le cadre des images**, la génération de nouvelles données peuvent être faite en appliquant des transformations géométriques sur nos images (zoom, rotation, redimensionnement, changement de la luminosité ...) originales.\n",
    ">\n",
    "><img src=\"https://datascientest.fr/train/assets/python_keras_picasso_augmentation.png\" style=\"width:700px\">\n",
    ">\n",
    "> Les générateurs de données permettent de charger les images lorsque le réseau en a besoin, et de leur appliquer des transformations différentes (rotation, zoom, décalage, ...) pour chaque iteration. Cette approche permet d'augmenter notre jeu de données et d'éviter au maximum le sur-apprentissage.\n",
    ">\n",
    ">La fonction [`ImageDataGenerator`](https://keras.io/preprocessing/image/)  de la classe **keras.preprocessing.image** génère des lots de données d’images avec une augmentation des données en temps réel (transformation). Cette fonction a notamment comme arguments :\n",
    ">>* **preprocessing_function**: la fonction sera exécutée une fois l'image redimensionnée et augmentée. Elle va permettre de prétraiter les images.\n",
    ">>* **rotation_range**: Plage de degrés pour la rotation aléatoire de l'image.\n",
    ">>* **width_shift_range**: plage pour la translation horizontale de l'image. Si l'argument est inférieur à 1, l'unité de la plage est une fraction de la largeur de l'image. Sinon, l'unité est en pixel.\n",
    ">>* **height_shift_range**: plage pour la translation verticale de l'image. Si l'argument est inférieur à 1, l'unité de la plage est une fraction de la largeur de l'image. Sinon, l'unité est en pixel.\n",
    ">>* **brightness_range**: Tuple ou liste de deux floats. Plage de sélection d'une valeur de décalage de luminosité.\n",
    ">* **zoom_range**: Plage de zoom aléatoire. L'argument peut être soit un float ou une liste [inférieur, supérieur].\n",
    ">>* **horizontal_flip**: si True retourne aléatoirement ($p = \\frac{1}{2}$) l'image horizontalement.\n",
    ">>* **vertical_flip**: si True retourner aléatoirement ($p = \\frac{1}{2}$) l'image verticalement.\n",
    "\n",
    "* Executer la cellule suivante pour afficher l'interaction"
   ]
  },
  {
   "cell_type": "code",
   "execution_count": 13,
   "metadata": {
    "deletable": false,
    "editable": false
   },
   "outputs": [
    {
     "data": {
      "application/vnd.jupyter.widget-view+json": {
       "model_id": "9d70a0aa3c1147e396eec8d9becdf1e6",
       "version_major": 2,
       "version_minor": 0
      },
      "text/plain": [
       "HBox(children=(VBox(children=(HTML(value='<b>Original Image</b>'), Image(value=b'\\xff\\xd8\\xff\\xe0\\x00\\x10JFIF\\…"
      ]
     },
     "metadata": {},
     "output_type": "display_data"
    },
    {
     "data": {
      "application/vnd.jupyter.widget-view+json": {
       "model_id": "fd0b9787278941ddb5b90a84adbc5c91",
       "version_major": 2,
       "version_minor": 0
      },
      "text/plain": [
       "GridBox(children=(FloatText(value=10.0, description='Rotation range'), FloatText(value=50.0, description='Widt…"
      ]
     },
     "metadata": {},
     "output_type": "display_data"
    },
    {
     "data": {
      "application/vnd.jupyter.widget-view+json": {
       "model_id": "c9643184384143b8b122336aa042592d",
       "version_major": 2,
       "version_minor": 0
      },
      "text/plain": [
       "Button(description='Generate', layout=Layout(align_items='center', display='flex', flex_flow='column'), style=…"
      ]
     },
     "metadata": {},
     "output_type": "display_data"
    }
   ],
   "source": [
    "%matplotlib inline\n",
    "from interaction_tl import show_generator\n",
    "show_generator()"
   ]
  },
  {
   "cell_type": "markdown",
   "metadata": {
    "deletable": false,
    "editable": false,
    "run_control": {
     "frozen": true
    }
   },
   "source": [
    "* Implémenter sous le nom **train_data_generator** un générateur d'image. Les transformations appliquerées sur notre image seront :\n",
    "  >* une fonction de prétraitement du modèle VGG16 : `preprocess_input`.\n",
    "  >* une rotation aléatoire sur une plage de 10 degrées.\n",
    "  >* une translation verticale et horizontale sur une plage de 10% des dimensions de l'images.\n",
    "  >* un agrandissement sur une plage 10% de l'image.\n",
    "  >* un retournement aléatoirement horizontalement de l'image.\n",
    "\n",
    "* Implémenter sous le nom **test_data_generator** un générateur de test. On appliquera sur notre image uniquement la fonction de prétraitement `preprocess_input`."
   ]
  },
  {
   "cell_type": "code",
   "execution_count": 8,
   "metadata": {
    "collapsed": true
   },
   "outputs": [],
   "source": []
  },
  {
   "cell_type": "code",
   "execution_count": null,
   "metadata": {
    "collapsed": true,
    "function": "solution"
   },
   "outputs": [],
   "source": []
  },
  {
   "cell_type": "markdown",
   "metadata": {
    "deletable": false,
    "editable": false,
    "run_control": {
     "frozen": true
    }
   },
   "source": [
    "> Dans la cellule précédente, nous avons créé un générateur d'images prenant un lot d'images et leur appliquera des transformations. Nous allons maintenant créer un itérateur permettant de générer à chaque itération (lors de l'apprentissage) un nouveau lot de données. On utilisera la méthode `flow_from_dataframe` de notre générateur d'images.\n",
    "> La méthode `flow_from_dataframe` a notamment comme argument :\n",
    ">* **dataframe**: dataframe Pandas contenant le chemin et la classes des images.\n",
    ">* **directory**: chemin du répertoire des images (par défaut: aucun).\n",
    ">* **x_col**: nom de la colonne du dataframe contenant les chemins des images (par défaut: aucun).\n",
    ">* **y_col**: nom la colonne du dataframe contenant les classes des images (par défaut: 'class')\n",
    ">* **class_mode**: le mode d'acception de l'ensemble des classes :\n",
    ">>* 'binary': Tableau numpy 1D binaire des classes. Exemple : [0,1,0,1,1]\n",
    ">>* 'categorical': Tableau numpy 2D du one-hot encoding (dichotomisation) des classes.\n",
    ">>* 'sparse': Tableau numpy 1D du numéro des classes. Exemple : [22,13,1,3]\n",
    ">* **target_size**: Taille (hauteur, largeur) du redimensionnement des images.\n",
    ">* **batch_size**: Taille du jeu de données généré à chaque itération.\n",
    ">\n",
    ">Cette méthode permettra de charger les images, de générér pour chaque iteration des lots de données (batchs) transformé par le générateur d'images.\n",
    "\n",
    "- Implémenter sous le nom **train_generator** un iterator à l'aide de la méthode `flow_from_dataframe` de l'objet **train_data_generator**. On choisira des images de taille (224,224) et la taille des lots de données (batchs) de 32.\n",
    "\n",
    "<div class=\"alert alert-info\">\n",
    "<i class=\"fa fa-info-circle\"></i> &emsp; \n",
    "La colonne **class** des dataframes est sous la forme de numéro de classe.\n",
    "</div>\n",
    "\n",
    "- Implémenter sous le nom **test_generator** un iterator à l'aide de la méthode `flow_from_dataframe` de l'objet **test_data_generator**. On choisira des images de taille (224,224) et la taille des lots de données (batchs) de 32.\n",
    "\n",
    "<div class=\"alert alert-success\">\n",
    "<i class=\"fa fa-question-circle\"></i> &emsp; \n",
    "Pour optimiser le temps de calcul, il est préférable de charger les images en mémoire RAM en utilisant la méthode `flow` à la place de `flow_from_dataframe`. Mais une telle approche demande d'avoir la mémoire RAM nécéssaire.\n",
    "</div>"
   ]
  },
  {
   "cell_type": "code",
   "execution_count": null,
   "metadata": {},
   "outputs": [],
   "source": []
  },
  {
   "cell_type": "code",
   "execution_count": null,
   "metadata": {
    "function": "solution"
   },
   "outputs": [],
   "source": []
  },
  {
   "cell_type": "markdown",
   "metadata": {
    "deletable": false,
    "editable": false,
    "run_control": {
     "frozen": true
    }
   },
   "source": [
    "<hr style=\"border-width:2px;border-color:#75DFC1\">\n",
    "<h2 style = \"text-align:center\" > Transfer Learning </h2>\n",
    "<hr style=\"border-width:2px;border-color:#75DFC1\">\n",
    "\n",
    "## Principe\n",
    "\n",
    ">L'apprentissage par transfert est le phénomène par lequel un apprentissage nouveau est facilité grâce aux apprentissages antérieurs partageant des similitudes. Par exemple, les connaissances acquises lors de l’apprentissage de la reconnaissance des voitures peuvent s’appliquer lorsqu’on essaie de reconnaître des camions.\n",
    "\n",
    "* Exécuter la cellule suivante pour afficher l'intéraction."
   ]
  },
  {
   "cell_type": "code",
   "execution_count": 1,
   "metadata": {},
   "outputs": [
    {
     "name": "stderr",
     "output_type": "stream",
     "text": [
      "Using TensorFlow backend.\n"
     ]
    },
    {
     "data": {
      "application/vnd.jupyter.widget-view+json": {
       "model_id": "fa60369b25994fc18cbb8450cf63b967",
       "version_major": 2,
       "version_minor": 0
      },
      "text/plain": [
       "VBox(children=(Image(value=b'\\xff\\xd8\\xff\\xe0\\x00\\x10JFIF\\x00\\x01\\x01\\x01\\x00`\\x00`\\x00\\x00\\xff\\xdb\\x00C\\x00\\x…"
      ]
     },
     "metadata": {},
     "output_type": "display_data"
    },
    {
     "data": {
      "application/vnd.jupyter.widget-view+json": {
       "model_id": "a7bb778868d34e4884e36310b17b4e8a",
       "version_major": 2,
       "version_minor": 0
      },
      "text/plain": [
       "HBox(children=(Button(description='Previous', disabled=True, icon='backward', layout=Layout(height='30%', widt…"
      ]
     },
     "metadata": {},
     "output_type": "display_data"
    }
   ],
   "source": [
    "%matplotlib inline\n",
    "from interaction_tl import show_tl\n",
    "show_tl()"
   ]
  },
  {
   "cell_type": "markdown",
   "metadata": {
    "deletable": false,
    "editable": false,
    "run_control": {
     "frozen": true
    }
   },
   "source": [
    "> Les modèles existants (VGG, ResNet, ...) sont composés de deux grandes parties. La première est un ensemble de convolution permettant l'extraction des features de l'image. La seconde est une succession de dense layer qui a pour but de classifier.\n",
    ">\n",
    "> Le **nouveau problème de classification** doit être assez semblable avec le jeu de données utilisé pour le pré-entrainement. Dans ce cas, nous allons initialiser les poids de la partie d'extraction de features de notre modèle par les poids du modèle pré-entrainé. Les couches de la partie de classification seront remplacées et initialisées de manière aléatoire.\n",
    ">\n",
    "> Lors du début de l'apprentissage, il est nécéssaire de \"freezer\" (bloquer) les poids de la partie pré-entrainée puisqu'ils sont proches des poids optimaux. Puis, au courant de l'entraînement, on peut \"unfreeze\" les couches pour affiner les poids du modèle :\n",
    ">\n",
    "\n",
    "## Modèle\n",
    "> La fonction `VGG16` de la classe **keras.applications.vgg16** permet de charger un modèle VGG16. Cette fonction a notamment comme argument :\n",
    "* **include_top**: ajouter les couches denses de classification.\n",
    "* **weights**: si None, les poids sont initialisés de manière aléatoire. Et si **'imagenet'**, les poids sont initialisés au poids de ImageNet.\n",
    ">\n",
    "> Un exemple pour créer un modèle  VGG16 et \"freezer\" ses couches:\n",
    "```\n",
    "base_model = VGG16(weights='imagenet', include_top=False)\n",
    "for layer in base_model.layers:\n",
    "    layer.trainable = False    \n",
    "model = Sequential()\n",
    "model.add(base_model)\n",
    "```\n",
    ">\n",
    "><img src=\"https://datascientest.fr/train/assets/python_keras_picasso_model.png\" style=\"width:800px\">\n",
    "\n",
    "* Implémenter le modèle défini sur l'image précédente sous le nom **model**.\n",
    "* Utiliser une optimisateur **'adam'**, une fonction de coût **'sparse_categorical_crossentropy'** et une métrique **'acc'**"
   ]
  },
  {
   "cell_type": "code",
   "execution_count": null,
   "metadata": {
    "collapsed": true
   },
   "outputs": [],
   "source": []
  },
  {
   "cell_type": "markdown",
   "metadata": {
    "deletable": false,
    "editable": false,
    "run_control": {
     "frozen": true
    }
   },
   "source": [
    "> Dans les parties précédentes, nous avons implémenté les génerateurs et le modèle. Il ne reste plus qu'à entraîner le modèle.\n",
    ">\n",
    ">La méthode `fit_generator` appliquée au modèle permet d'entraîner le modèle avec des générateurs. La méthode a comme argument :\n",
    "* **generator**: Générateur d'entraînement.\n",
    "* **steps_per_epoch**: Nombre d'itération pour chaque époque lors de l'entraînement\n",
    "* **epochs**: Nombre d'époque.\n",
    "* **workers**: Nombre de coeur du processeur utilisés (-1 : tous) pour réaliser l'entraînement.\n",
    "* **validation_data**: Générateur pour la validation.\n",
    "* **validation_steps**: Nombre d'itération lors du test.\n",
    "\n",
    "* Entraîner le modèle avec la méthode `fit_generator`. Stocker l'historique de l'apprentissage dans la variable **history**."
   ]
  },
  {
   "cell_type": "code",
   "execution_count": null,
   "metadata": {},
   "outputs": [],
   "source": []
  },
  {
   "cell_type": "code",
   "execution_count": null,
   "metadata": {
    "collapsed": true,
    "function": "solution",
    "scrolled": true
   },
   "outputs": [],
   "source": []
  },
  {
   "cell_type": "markdown",
   "metadata": {
    "deletable": false,
    "editable": false,
    "run_control": {
     "frozen": true
    }
   },
   "source": [
    "* Afficher la courbe de la fonction de coût et de précision en fonction de l'epoch."
   ]
  },
  {
   "cell_type": "code",
   "execution_count": null,
   "metadata": {},
   "outputs": [],
   "source": []
  },
  {
   "cell_type": "code",
   "execution_count": null,
   "metadata": {
    "collapsed": true,
    "function": "solution"
   },
   "outputs": [],
   "source": []
  },
  {
   "cell_type": "markdown",
   "metadata": {
    "deletable": false,
    "editable": false,
    "run_control": {
     "frozen": true
    }
   },
   "source": [
    ">Lors de l'apprentissage précédent, nous avons \"freezé\" les poids du modèle **VGG16 CNN** puisqu'ils étaient proches des poids optimaux et que les poids du classifieur était initialisé de manière aléatoire.\n",
    ">\n",
    "> Nous allons maintenant rechercher une meilleur solution en reprennant notre modèle appris précédément et \"unfreezer\" les couches les unes après les autres du **vgg16**.\n",
    ">\n",
    "><img src=\"https://datascientest.fr/train/assets/python_keras_picasso_unfreeze1.png\" style=\"width:800px\">\n",
    ">\n",
    ">Le code suivant permet de \"unfreeze\" les 4 dernières couches du modèle **base_model** :\n",
    "```\n",
    "for layer in base_model.layers[-4:]:\n",
    "    layer.trainable = True\n",
    "```\n",
    "\n",
    "- \"Defreezer\" les 4 dernières couches du modèle **vgg16**."
   ]
  },
  {
   "cell_type": "code",
   "execution_count": 16,
   "metadata": {
    "collapsed": true
   },
   "outputs": [],
   "source": []
  },
  {
   "cell_type": "code",
   "execution_count": null,
   "metadata": {
    "collapsed": true,
    "function": "solution"
   },
   "outputs": [],
   "source": []
  },
  {
   "cell_type": "markdown",
   "metadata": {
    "deletable": false,
    "editable": false,
    "run_control": {
     "frozen": true
    }
   },
   "source": [
    "* A l'aide de la méthode `compile` appliquée au modèle global, utiliser l'optimizer `Adam` avec un learning rate **lr** de $10^{-4}$. Nous allons toujours utiliser fonction de coût **'sparse_categorical_crossentropy'** et une métrique **['accuracy']**.\n",
    "\n",
    "\n",
    "\n",
    "* Entraîner le modèle avec la méthode `fit_generator`. Stocker l'historique de l'apprentissage dans la variable **history**."
   ]
  },
  {
   "cell_type": "code",
   "execution_count": null,
   "metadata": {},
   "outputs": [],
   "source": []
  },
  {
   "cell_type": "code",
   "execution_count": null,
   "metadata": {
    "collapsed": true,
    "function": "solution"
   },
   "outputs": [],
   "source": []
  },
  {
   "cell_type": "markdown",
   "metadata": {
    "deletable": false,
    "editable": false,
    "run_control": {
     "frozen": true
    }
   },
   "source": [
    "* Afficher la courbe de la fonction de coût et de précision en fonction de l'epoch à l'aide de la cellule suivante."
   ]
  },
  {
   "cell_type": "code",
   "execution_count": null,
   "metadata": {},
   "outputs": [],
   "source": []
  },
  {
   "cell_type": "code",
   "execution_count": null,
   "metadata": {
    "collapsed": true,
    "function": "solution"
   },
   "outputs": [],
   "source": []
  },
  {
   "cell_type": "markdown",
   "metadata": {
    "deletable": false,
    "editable": false,
    "run_control": {
     "frozen": true
    }
   },
   "source": [
    "<hr style=\"border-width:2px;border-color:#75DFC1\">\n",
    "<h2 style = \"text-align:center\" > Features extraction </h2> \n",
    "<hr style=\"border-width:2px;border-color:#75DFC1\">\n",
    "\n",
    "> Avec les méthodes de classifications classiques (SVM, RF ...) donnent de très mauvais scores si nous utilisons les pixels de notre image comme caractérisques.\n",
    ">\n",
    "> Une autre approche combinant les méthodes classiques de machine learning et les méthodes de Deep Learning est l'extraction de features. En utilisant la partie d'extraction des features du modèle de deep learning et en la combinant avec un modèle de classification classique, nous pouvons réussir à avoir de meilleur résultat :\n",
    ">\n",
    "><img src=\"https://datascientest.fr/train/assets/python_keras_picasso_features.png\" style=\"width:700px\">\n",
    ">\n",
    "> Pour extraire la valeur de sortie d'une couche intermédiaire d'un modèle, une méthode est de définir un nouveau `Model` en précisant en arguments :\n",
    "- **input** : l'input de notre ancien modèle avec `old_model.input`.\n",
    "- **output** : l'output d'une couche de notre ancien modèle avec `model.layers[num_layer].output`.\n",
    ">Puis, on peut extraire la valeur de sortie en utisant la méthode `predict` sur notre nouveau modèle :\n",
    "```\n",
    "intermediate_layer_model = Model(input=model.input, output=model.layers[num_layer].output)\n",
    "output_num_layer = intermediate_layer_model.predict(inputs)\n",
    "```\n",
    "<div class=\"alert alert-info\">\n",
    "<i class=\"fa fa-info-circle\"></i> &emsp; \n",
    "L'attribut **layers** appliqué au modèle retourne la liste des couches du modèle.\n",
    "</div>\n",
    "\n",
    "Pour pouvoir extraire les features, nous allons devoir charger les images en mémoire.\n",
    "\n",
    "- Exécuter la cellule suivante pour charger les images des **n_class** classes en mémoire."
   ]
  },
  {
   "cell_type": "code",
   "execution_count": 19,
   "metadata": {
    "collapsed": true
   },
   "outputs": [],
   "source": [
    "def convert_image(X):\n",
    "    X_img=[]\n",
    "    for image in X:\n",
    "        # Load image\n",
    "        img=cv2.imread(image)\n",
    "        # Resize image\n",
    "        img=cv2.resize(img,(224,224))\n",
    "        # for the black and white image\n",
    "        if img.shape==(224, 224):\n",
    "            img=img.reshape([224,224,1])\n",
    "            img=np.concatenate([img,img,img],axis=2)\n",
    "        # cv2 load the image BGR sequence color (not RGB)\n",
    "        X_img.append(img[...,::-1])\n",
    "    return np.array(X_img)\n",
    "\n",
    "# Load the images train\n",
    "X_train_img = convert_image(data_train.img_paths)\n",
    "Y_train = data_train['class']\n",
    "\n",
    "# Load the images test\n",
    "X_test_img = convert_image(data_test.img_paths)\n",
    "Y_test = data_test['class']"
   ]
  },
  {
   "cell_type": "markdown",
   "metadata": {
    "deletable": false,
    "editable": false,
    "run_control": {
     "frozen": true
    }
   },
   "source": [
    "- En utilisant la méthode d'extraction des features présentée dans la partie précédente, extraire les features de la couche 2 sous le nom **X_train_features** et **X_test_features**.\n",
    "- Appliquer un SVM sur ces nouvelles données."
   ]
  },
  {
   "cell_type": "code",
   "execution_count": 20,
   "metadata": {},
   "outputs": [
    {
     "name": "stderr",
     "output_type": "stream",
     "text": [
      "/home/ubuntu/virtualenvs/python3/lib/python3.6/site-packages/ipykernel_launcher.py:2: UserWarning: Update your `Model` call to the Keras 2 API: `Model(inputs=Tensor(\"vg..., outputs=Tensor(\"de...)`\n",
      "  \n"
     ]
    },
    {
     "data": {
      "text/plain": [
       "0.9155405405405406"
      ]
     },
     "execution_count": 20,
     "metadata": {},
     "output_type": "execute_result"
    }
   ],
   "source": []
  },
  {
   "cell_type": "code",
   "execution_count": null,
   "metadata": {
    "collapsed": true,
    "function": "solution"
   },
   "outputs": [],
   "source": []
  },
  {
   "cell_type": "markdown",
   "metadata": {
    "deletable": false,
    "editable": false,
    "run_control": {
     "frozen": true
    }
   },
   "source": [
    "> Nous remarquons que notre approche hybride rapporte de meilleur performance. Nous pouvons classifier l'artiste en fonction de ses oeuvres.\n",
    "\n",
    "### Ce qu'il faut retenir : \n",
    "\n",
    "> Les réseaux de neurones construits séquentiellement sont des outils de machine learning désormais accessibles offrant des résultats pouvant surpasser de loin les algorithmes classiques sur des tâches non-triviales.\n",
    ">\n",
    "> Le schéma pour implémenter un modèle avec keras est très simple:\n",
    "> * Architecture du modèle\n",
    "> * Compilation du modèle\n",
    "> * Entraînement du modèle\n",
    "> * Diagnostique de l'entraînement\n",
    "> * Evaluation des prédictions\n",
    ">\n",
    "> Les **générateurs de données** permettent de charger les images lorsque le réseau en a besoin, et de leur appliquer des transformations différentes (rotation, zoom, décalage, ...) pour chaque iteration. Cette approche permet d'augmenter notre jeu de données et d'**éviter au maximum le sur-apprentissage**.\n",
    ">\n",
    "> Les réseaux convolutions (CNN) ont deux parties:\n",
    "> * La partie des **convolutions** permet d'extraire les caractéristiques de nos images. \n",
    "> * La partie **Fully Connected Layers** permet de classifier nos images.\n",
    ">\n",
    ">\n",
    "> Le **transfer learning** consiste à ré-utiliser la partie convolutionnelle d'un modèle pré-entrainer sur une autre tâche de classification.\n",
    ">\n",
    "><img src =\"https://datascientest.fr/train/assets/certificate.png\" width=100px >\n",
    ">\n",
    "> **Bravo !**  Vous êtes arrivé à la fin de la formation d'Introduction au *Deep Learning* avec Keras.\n",
    "> N'hésitez pas à nous faire part de vos retours pour l'amélioration de nos formations."
   ]
  }
 ],
 "metadata": {
  "accelerator": "GPU",
  "colab": {
   "name": "Untitled.ipynb",
   "provenance": [],
   "version": "0.3.2"
  },
  "kernelspec": {
   "display_name": "Python3 default",
   "language": "python",
   "name": "python3"
  },
  "language_info": {
   "codemirror_mode": {
    "name": "ipython",
    "version": 3
   },
   "file_extension": ".py",
   "mimetype": "text/x-python",
   "name": "python",
   "nbconvert_exporter": "python",
   "pygments_lexer": "ipython3",
   "version": "3.8.3"
  },
  "latex_envs": {
   "LaTeX_envs_menu_present": true,
   "autoclose": false,
   "autocomplete": true,
   "bibliofile": "biblio.bib",
   "cite_by": "apalike",
   "current_citInitial": 1,
   "eqLabelWithNumbers": true,
   "eqNumInitial": 1,
   "hotkeys": {
    "equation": "Ctrl-E",
    "itemize": "Ctrl-I"
   },
   "labels_anchors": false,
   "latex_user_defs": false,
   "report_style_numbering": false,
   "user_envs_cfg": false
  },
  "widgets": {
   "state": {},
   "version": "1.1.2"
  }
 },
 "nbformat": 4,
 "nbformat_minor": 1
}

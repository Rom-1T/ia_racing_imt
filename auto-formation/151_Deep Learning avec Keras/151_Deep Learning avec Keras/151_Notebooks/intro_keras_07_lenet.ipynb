{
 "cells": [
  {
   "cell_type": "markdown",
   "metadata": {
    "deletable": false,
    "editable": false,
    "function": "preliminary",
    "question_id": 1,
    "run_control": {
     "frozen": true
    }
   },
   "source": [
    "<img src=\"https://datascientest.fr/train/assets/logo_datascientest.png\" style=\"height:150px\">\n",
    "\n",
    "<hr style=\"border-width:2px;border-color:#75DFC1\">\n",
    "<center><h1>Introduction au Deep Learning avec Keras</h1></center>\n",
    "<center><h2>Résolution avec l'architecture LeNet</h2></center>\n",
    "<hr style=\"border-width:2px;border-color:#75DFC1\">\n",
    "\n",
    "\n",
    "\n",
    "## Contexte et objectif\n",
    "\n",
    ">Le principal objectif de l'exercice est de réaliser une reproduction de l'algorithme de Réseau de Neurones Convolutif **LeNet5**  sur Python avec le module Keras. Plus d'infos sur LeNet [ici](http://yann.lecun.com/exdb/lenet/).\n",
    ">\n",
    ">\n",
    ">\n",
    ">L’architecture LeNet a été introduite par Yann LeCun en Novembre 1998 dans le journal [*Proceedings of the IEEE*](http://yann.lecun.com/exdb/publis/pdf/lecun-98.pdf).\n",
    "> Nous allons reconstruire l'architecture du réseau LeNet qui est plus élaborée que celle créée dans l’exercice précédent. Le réseau LeNet comprend notamment deux couches de convolution, deux couches de *pooling*, ainsi que des layers de *dropout*.\n",
    "\n",
    "* Exécutez la cellule ci-dessous pour importer les modules nécessaires à l'exercice."
   ]
  },
  {
   "cell_type": "code",
   "execution_count": 1,
   "metadata": {
    "function": "preliminary",
    "question_id": 1
   },
   "outputs": [
    {
     "name": "stderr",
     "output_type": "stream",
     "text": [
      "Using TensorFlow backend.\n"
     ]
    }
   ],
   "source": [
    "%matplotlib inline\n",
    "import numpy as np\n",
    "\n",
    "from keras.models import Sequential\n",
    "from keras.layers import Dense, Activation\n",
    "from keras.layers import Dropout\n",
    "from keras.layers import Flatten\n",
    "from keras.layers.convolutional import Conv2D\n",
    "from keras.layers.convolutional import MaxPooling2D\n",
    "from keras.utils import np_utils\n",
    "\n",
    "import matplotlib.pyplot as plt\n",
    "from matplotlib import cm\n",
    "\n",
    "from sklearn import metrics\n",
    "\n",
    "import itertools"
   ]
  },
  {
   "cell_type": "markdown",
   "metadata": {
    "deletable": false,
    "editable": false,
    "function": "preliminary",
    "question_id": 1,
    "run_control": {
     "frozen": true
    }
   },
   "source": [
    "* Exécutant la cellule suivante pour charger les données obtenues à l'Exercice 1."
   ]
  },
  {
   "cell_type": "code",
   "execution_count": 2,
   "metadata": {
    "function": "preliminary",
    "question_id": 1
   },
   "outputs": [
    {
     "name": "stdout",
     "output_type": "stream",
     "text": [
      "Shape of X: (60000, 784)\n",
      "Shape of y: (60000,)\n"
     ]
    }
   ],
   "source": [
    "# Pour importer le datasets mnist de Keras\n",
    "from keras.datasets.mnist import load_data\n",
    "\n",
    "# Chargement des données MNIST\n",
    "(X_train, y_train), (X_test, y_test) = load_data()\n",
    "\n",
    "# Changer la forme de X_train et X_test\n",
    "X_train = X_train.reshape([-1, 28*28])\n",
    "X_test = X_test.reshape([-1, 28*28])\n",
    "\n",
    "# Shape of X_train and y_train\n",
    "print('Shape of X:', X_train.shape)\n",
    "print('Shape of y:',y_train.shape)"
   ]
  },
  {
   "cell_type": "markdown",
   "metadata": {
    "deletable": false,
    "editable": false,
    "function": "preliminary",
    "question_id": 1,
    "run_control": {
     "frozen": true
    }
   },
   "source": [
    "* Transformer les données **X_train** en un tableau à 4 dimensions (nb_images, largeur, hauteur, profondeur). Chacune des images sera ainsi redimensionnée au format (28, 28, 1).\n",
    "\n",
    "\n",
    "* Faire de même pour les données **X_test**."
   ]
  },
  {
   "cell_type": "code",
   "execution_count": 3,
   "metadata": {
    "collapsed": true,
    "function": "submission",
    "question_id": 1
   },
   "outputs": [],
   "source": []
  },
  {
   "cell_type": "code",
   "execution_count": null,
   "metadata": {
    "collapsed": true,
    "function": "solution",
    "question_id": 1
   },
   "outputs": [],
   "source": []
  },
  {
   "cell_type": "markdown",
   "metadata": {
    "deletable": false,
    "editable": false,
    "function": "preliminary",
    "question_id": 2,
    "run_control": {
     "frozen": true
    }
   },
   "source": [
    "* Diviser les pixels des données **X_train** et **X_test** par 255 afin qu'ils soient compris entre 0 et 1.\n",
    "\n",
    "\n",
    "* Transformer les labels de **y_train** et **y_test** en vecteurs catégorielles binaires (*one hot*), grâce à la fonction `to_categorical` du sous-module **np_utils** de **keras**."
   ]
  },
  {
   "cell_type": "code",
   "execution_count": 4,
   "metadata": {
    "collapsed": true,
    "function": "submission",
    "question_id": 2
   },
   "outputs": [],
   "source": []
  },
  {
   "cell_type": "code",
   "execution_count": null,
   "metadata": {
    "collapsed": true,
    "function": "solution",
    "question_id": 2
   },
   "outputs": [],
   "source": []
  },
  {
   "cell_type": "markdown",
   "metadata": {
    "deletable": false,
    "editable": false,
    "function": "preliminary",
    "question_id": 3,
    "run_control": {
     "frozen": true
    }
   },
   "source": [
    "> L'architecture du LeNet est constituée des couches suivantes:\n",
    ">> * **Convolution 1** : 30 filtres,  dimension d'entrée (28, 28, 1), dimension du noyau (5, 5), fonction d'activation *ReLU*, pas de dépassement du noyau.\n",
    ">> * **Max-Pooling 1** : dimension du pooling (2, 2).\n",
    ">>\n",
    ">> * **Convolution 2** : 16 filtres, dimension du noyau (3, 3), fonction d'activation *ReLU*, Pas de dépassement du noyau.\n",
    ">> * **Max-Pooling 2** : dimension du pooling (2, 2).\n",
    ">>\n",
    ">> * **Dropout** : Connexions coupées: 20%.\n",
    ">> * **Aplatissement**\n",
    ">> * **Dense 1** : 128 neurones, fonction d'activation *ReLU*.\n",
    ">> * **Dense 2** :  10 neurones, fonction d'activation *softmax*.\n",
    ">\n",
    ">  En image: <img src=\"https://datascientest.fr/train/assets/le_net.png\" style=\"width:auto; height:200px\" />\n",
    "\n",
    "* Instancier l'ensemble de ces couches et les ajouter à un modèle séquentiel.\n",
    "\n",
    "\n",
    "* Compiler le modèle avec la fonction de perte *'categorical_crossentropy'*, l'optimiseur *'adam'* et la métrique *[\"accuracy\"]*.\n",
    "\n",
    "\n",
    "* Entraîner le modèle avec les données d'entraînement sur 16 *epochs* avec des *batchs* de taille 200 et un *split* de validation de 0,2. Stocker la sortie de l'entraînement dans une variable nommée **training_history_lenet**.\n",
    "\n"
   ]
  },
  {
   "cell_type": "code",
   "execution_count": null,
   "metadata": {
    "collapsed": true,
    "function": "submission",
    "question_id": 3
   },
   "outputs": [],
   "source": []
  },
  {
   "cell_type": "markdown",
   "metadata": {
    "deletable": false,
    "editable": false,
    "run_control": {
     "frozen": true
    }
   },
   "source": [
    "* Lancer la cellule suivante pour extraire de **training_history_lenet** les précisions sur les bases d'entraînement et de validation obtenues pendant l'entraînement."
   ]
  },
  {
   "cell_type": "code",
   "execution_count": 6,
   "metadata": {
    "collapsed": true
   },
   "outputs": [],
   "source": [
    "train_acc_lenet = training_history_lenet.history['accuracy']\n",
    "val_acc_lenet = training_history_lenet.history['val_accuracy']"
   ]
  },
  {
   "cell_type": "markdown",
   "metadata": {
    "deletable": false,
    "editable": false,
    "run_control": {
     "frozen": true
    }
   },
   "source": [
    "> Nous voulons comparer les trois réseaux que nous avons construits jusqu'à maintenant: le réseau dense, le CNN et LeNet.\n",
    "\n",
    "* Lancer la cellule suivante pour instancier, compiler et entraîner les modèles des exercices précédents. L'opération peut prendre quelques minutes."
   ]
  },
  {
   "cell_type": "code",
   "execution_count": 7,
   "metadata": {},
   "outputs": [
    {
     "name": "stdout",
     "output_type": "stream",
     "text": [
      "Train on 48000 samples, validate on 12000 samples\n",
      "Epoch 1/16\n",
      "48000/48000 [==============================] - 1s 13us/step - loss: 1.2039 - accuracy: 0.7756 - val_loss: 0.5853 - val_accuracy: 0.8827\n",
      "Epoch 2/16\n",
      "48000/48000 [==============================] - 1s 11us/step - loss: 0.4746 - accuracy: 0.8923 - val_loss: 0.3678 - val_accuracy: 0.9089\n",
      "Epoch 3/16\n",
      "48000/48000 [==============================] - 1s 11us/step - loss: 0.3480 - accuracy: 0.9109 - val_loss: 0.3005 - val_accuracy: 0.9194\n",
      "Epoch 4/16\n",
      "48000/48000 [==============================] - 1s 11us/step - loss: 0.2947 - accuracy: 0.9207 - val_loss: 0.2683 - val_accuracy: 0.9264\n",
      "Epoch 5/16\n",
      "48000/48000 [==============================] - 1s 11us/step - loss: 0.2629 - accuracy: 0.9281 - val_loss: 0.2475 - val_accuracy: 0.9317\n",
      "Epoch 6/16\n",
      "48000/48000 [==============================] - 1s 11us/step - loss: 0.2404 - accuracy: 0.9336 - val_loss: 0.2327 - val_accuracy: 0.9369\n",
      "Epoch 7/16\n",
      "48000/48000 [==============================] - 1s 11us/step - loss: 0.2234 - accuracy: 0.9377 - val_loss: 0.2225 - val_accuracy: 0.9390\n",
      "Epoch 8/16\n",
      "48000/48000 [==============================] - 1s 11us/step - loss: 0.2100 - accuracy: 0.9414 - val_loss: 0.2130 - val_accuracy: 0.9417\n",
      "Epoch 9/16\n",
      "48000/48000 [==============================] - 1s 11us/step - loss: 0.1992 - accuracy: 0.9437 - val_loss: 0.2058 - val_accuracy: 0.9429\n",
      "Epoch 10/16\n",
      "48000/48000 [==============================] - 1s 11us/step - loss: 0.1899 - accuracy: 0.9463 - val_loss: 0.2020 - val_accuracy: 0.9452\n",
      "Epoch 11/16\n",
      "48000/48000 [==============================] - 1s 11us/step - loss: 0.1818 - accuracy: 0.9484 - val_loss: 0.1972 - val_accuracy: 0.9458\n",
      "Epoch 12/16\n",
      "48000/48000 [==============================] - 1s 11us/step - loss: 0.1745 - accuracy: 0.9508 - val_loss: 0.1939 - val_accuracy: 0.9467\n",
      "Epoch 13/16\n",
      "48000/48000 [==============================] - 1s 11us/step - loss: 0.1686 - accuracy: 0.9520 - val_loss: 0.1910 - val_accuracy: 0.9469\n",
      "Epoch 14/16\n",
      "48000/48000 [==============================] - 1s 11us/step - loss: 0.1628 - accuracy: 0.9533 - val_loss: 0.1916 - val_accuracy: 0.9486\n",
      "Epoch 15/16\n",
      "48000/48000 [==============================] - 1s 11us/step - loss: 0.1580 - accuracy: 0.9550 - val_loss: 0.1871 - val_accuracy: 0.9494\n",
      "Epoch 16/16\n",
      "48000/48000 [==============================] - 1s 11us/step - loss: 0.1538 - accuracy: 0.9551 - val_loss: 0.1858 - val_accuracy: 0.9493\n",
      "Train on 48000 samples, validate on 12000 samples\n",
      "Epoch 1/16\n",
      "48000/48000 [==============================] - 4s 88us/step - loss: 0.2766 - accuracy: 0.9178 - val_loss: 0.0967 - val_accuracy: 0.9724\n",
      "Epoch 2/16\n",
      "48000/48000 [==============================] - 4s 85us/step - loss: 0.0835 - accuracy: 0.9758 - val_loss: 0.0605 - val_accuracy: 0.9824\n",
      "Epoch 3/16\n",
      "48000/48000 [==============================] - 4s 84us/step - loss: 0.0553 - accuracy: 0.9836 - val_loss: 0.0521 - val_accuracy: 0.9845\n",
      "Epoch 4/16\n",
      "48000/48000 [==============================] - 4s 84us/step - loss: 0.0459 - accuracy: 0.9864 - val_loss: 0.0496 - val_accuracy: 0.9848\n",
      "Epoch 5/16\n",
      "48000/48000 [==============================] - 4s 84us/step - loss: 0.0360 - accuracy: 0.9888 - val_loss: 0.0522 - val_accuracy: 0.9833\n",
      "Epoch 6/16\n",
      "48000/48000 [==============================] - 4s 84us/step - loss: 0.0317 - accuracy: 0.9898 - val_loss: 0.0455 - val_accuracy: 0.9868\n",
      "Epoch 7/16\n",
      "48000/48000 [==============================] - 4s 84us/step - loss: 0.0250 - accuracy: 0.9921 - val_loss: 0.0464 - val_accuracy: 0.9868\n",
      "Epoch 8/16\n",
      "48000/48000 [==============================] - 4s 85us/step - loss: 0.0196 - accuracy: 0.9939 - val_loss: 0.0467 - val_accuracy: 0.9867\n",
      "Epoch 9/16\n",
      "48000/48000 [==============================] - 4s 84us/step - loss: 0.0188 - accuracy: 0.9936 - val_loss: 0.0504 - val_accuracy: 0.9858\n",
      "Epoch 10/16\n",
      "48000/48000 [==============================] - 4s 84us/step - loss: 0.0142 - accuracy: 0.9954 - val_loss: 0.0439 - val_accuracy: 0.9872\n",
      "Epoch 11/16\n",
      "48000/48000 [==============================] - 4s 85us/step - loss: 0.0124 - accuracy: 0.9961 - val_loss: 0.0448 - val_accuracy: 0.9877\n",
      "Epoch 12/16\n",
      "48000/48000 [==============================] - 4s 87us/step - loss: 0.0116 - accuracy: 0.9964 - val_loss: 0.0428 - val_accuracy: 0.9880\n",
      "Epoch 13/16\n",
      "48000/48000 [==============================] - 4s 87us/step - loss: 0.0112 - accuracy: 0.9964 - val_loss: 0.0422 - val_accuracy: 0.9882\n",
      "Epoch 14/16\n",
      "48000/48000 [==============================] - 4s 85us/step - loss: 0.0089 - accuracy: 0.9972 - val_loss: 0.0468 - val_accuracy: 0.9878\n",
      "Epoch 15/16\n",
      "48000/48000 [==============================] - 4s 85us/step - loss: 0.0081 - accuracy: 0.9973 - val_loss: 0.0473 - val_accuracy: 0.9875\n",
      "Epoch 16/16\n",
      "48000/48000 [==============================] - 4s 84us/step - loss: 0.0064 - accuracy: 0.9980 - val_loss: 0.0461 - val_accuracy: 0.9882\n"
     ]
    }
   ],
   "source": [
    "# Réseau Dense\n",
    "\n",
    "dense = Sequential()\n",
    "dense_0 = Flatten()\n",
    "dense_1 = Dense(units = 20, input_dim = 784, kernel_initializer ='normal', activation ='tanh')            \n",
    "dense_2 = Dense(units = 10, kernel_initializer ='normal', activation ='softmax')\n",
    "dense.add(dense_0)\n",
    "dense.add(dense_1)\n",
    "dense.add(dense_2)\n",
    "\n",
    "# CNN\n",
    "\n",
    "cnn = Sequential()\n",
    "cnn_1 = Conv2D(filters = 32, kernel_size = (5, 5), padding = 'valid', input_shape = (28, 28, 1), activation = 'relu')\n",
    "cnn_2 = MaxPooling2D(pool_size = (2, 2))\n",
    "cnn_3 = Dropout(rate = 0.2)\n",
    "cnn_4 = Flatten()\n",
    "cnn_5 = Dense(units = 128, activation = 'relu')\n",
    "cnn_6 = Dense(units = 10, activation='softmax')\n",
    "\n",
    "cnn.add(cnn_1)\n",
    "cnn.add(cnn_2)\n",
    "cnn.add(cnn_3)\n",
    "cnn.add(cnn_4)\n",
    "cnn.add(cnn_5)\n",
    "cnn.add(cnn_6)\n",
    "\n",
    "# Compilation\n",
    "dense.compile(loss = 'categorical_crossentropy', optimizer = 'adam', metrics = ['accuracy'])           \n",
    "cnn.compile(loss = 'categorical_crossentropy', optimizer = 'adam', metrics = ['accuracy'])            \n",
    "\n",
    "# Entraînement\n",
    "training_history_dense = dense.fit(X_train, y_train, validation_split = 0.2, epochs = 16, batch_size = 200, verbose = 1)\n",
    "training_history_cnn = cnn.fit(X_train, y_train, validation_split = 0.2, epochs = 16, batch_size = 200, verbose = 1)"
   ]
  },
  {
   "cell_type": "markdown",
   "metadata": {
    "deletable": false,
    "editable": false,
    "run_control": {
     "frozen": true
    }
   },
   "source": [
    "> Nous avons stocké la sortie de leurs entraînements dans les variables **training_history_dense** et **training_history_cnn**.\n",
    "\n",
    "* Extraire de ces deux dictionnaires les précisions sur la base de validation obtenues pendant l'entraînement de chacun des modèles.\n",
    "\n",
    "\n",
    "* À l'aide du module *matplotlib.pyplot*, tracer les évolutions des précisions sur la base de validation des trois modèles. On rapelle que l'entraînement s'est fait sur *16 epochs* pour les trois modèles.\n",
    "\n",
    "\n",
    "* Quel modèle vous paraît être le plus performant?"
   ]
  },
  {
   "cell_type": "code",
   "execution_count": null,
   "metadata": {},
   "outputs": [],
   "source": []
  },
  {
   "cell_type": "code",
   "execution_count": null,
   "metadata": {
    "function": "solution"
   },
   "outputs": [],
   "source": []
  },
  {
   "cell_type": "markdown",
   "metadata": {
    "deletable": false,
    "editable": false,
    "function": "preliminary",
    "question_id": 8,
    "run_control": {
     "frozen": true
    }
   },
   "source": [
    "* Prédire les classes de l'échantillon **X_test** à l'aide de la méthode `predict` du modèle LeNet. Stocker le résultat dans un tableau nommé **test_pred_lenet**.\n",
    "\n",
    "\n",
    "* Faire de même pour les deux autres modèles et stocker le résultat dans **test_pred_dense** et **test_pred_cnn**.\n",
    "\n",
    "\n",
    "* Appliquer la méthode `argmax` sur les tableaux **test_pred_lenet**, **test_pred_dense**, **test_pred_cnn** et **y_test** pour obtenir des vecteurs d'entiers correspondant aux classes prédites et réelles. Il faudra passer l'argument '`axis = 1`' pour que l'argmax soit calculée sur les colonnes et non les lignes. Stocker les sorties des appels de la méthode `argmax` dans des tableaux nommés **test_pred_lenet_class**, **test_pred_dense_class**, **test_pred_cnn_class** et **y_test_class**."
   ]
  },
  {
   "cell_type": "code",
   "execution_count": 14,
   "metadata": {
    "collapsed": true
   },
   "outputs": [],
   "source": []
  },
  {
   "cell_type": "code",
   "execution_count": null,
   "metadata": {
    "collapsed": true,
    "function": "solution"
   },
   "outputs": [],
   "source": []
  },
  {
   "cell_type": "markdown",
   "metadata": {
    "deletable": false,
    "editable": false,
    "run_control": {
     "frozen": true
    }
   },
   "source": [
    "* Afficher un compte-rendu évaluatif détaillé de la perfomance du modèle **lenet** à l'aide de la fonction `classification_report` du sous-module **metrics** de **scikit-learn**."
   ]
  },
  {
   "cell_type": "code",
   "execution_count": null,
   "metadata": {},
   "outputs": [],
   "source": []
  },
  {
   "cell_type": "markdown",
   "metadata": {
    "deletable": false,
    "editable": false,
    "run_control": {
     "frozen": true
    }
   },
   "source": [
    "* Lancer la cellule suivante pour voir les images de la base de test où les trois modèles se sont trompés. Vous pouvez la relancer plusieurs fois."
   ]
  },
  {
   "cell_type": "code",
   "execution_count": 18,
   "metadata": {},
   "outputs": [
    {
     "data": {
      "image/png": "[encoded data removed]",
      "text/plain": [
       "<Figure size 432x288 with 3 Axes>"
      ]
     },
     "metadata": {
      "needs_background": "light"
     },
     "output_type": "display_data"
    }
   ],
   "source": [
    "error_indexes = []\n",
    "for i in range(len(test_pred_cnn)):\n",
    "    if (test_pred_lenet_class[i] != y_test_class[i]):\n",
    "        if(test_pred_dense_class[i] != y_test_class[i]):\n",
    "            if(test_pred_cnn_class[i] != y_test_class[i]):\n",
    "                error_indexes += [i]\n",
    "\n",
    "j = 1\n",
    "for i in np.random.choice(error_indexes, size = 3):\n",
    "    img = X_test[i] \n",
    "    img = img.reshape(28, 28)\n",
    "    \n",
    "    plt.subplot(1, 3, j)\n",
    "    j = j + 1\n",
    "    plt.axis('off')\n",
    "    plt.imshow(img,cmap = cm.binary, interpolation='None')\n",
    "    plt.title('True Label: ' + str(y_test_class[i]) \\\n",
    "              + '\\n' + 'Prediction: '+ str(test_pred_lenet_class[i]) \\\n",
    "              + '\\n' + 'Confidence: '+ str(round(test_pred_lenet[i][test_pred_lenet_class[i]], 2)))"
   ]
  },
  {
   "cell_type": "markdown",
   "metadata": {
    "deletable": false,
    "editable": false,
    "function": "preliminary",
    "question_id": 11,
    "run_control": {
     "frozen": true
    }
   },
   "source": [
    "> On remarque que certains des chiffres mal identifiés sont parfois très mal écrits, certains ne sont même pas reconnaissables.\n",
    ">\n",
    "> Avec un taux de précision dépassant les 99% pour quelques minutes d'entraînement, on peut affirmer qu'au moins un des trois modèles a rempli son objectif.\n",
    "\n",
    "### Ce qu'il faut retenir : \n",
    "\n",
    "\n",
    "> Les réseaux de neurones construits séquentiellement sont des outils de machine learning désormais accessibles offrant des résultats pouvant surpasser de loin les algorithmes classiques sur des tâches non-triviales.\n",
    ">\n",
    ">Le schéma pour implémenter un modèle avec keras est très simple:\n",
    "> * Architecture du modèle\n",
    "> * Compilation du modèle\n",
    "> * Entraînement du modèle\n",
    "> * Diagnostique de l'entraînement\n",
    "> * Evaluation des prédictions"
   ]
  }
 ],
 "metadata": {
  "anaconda-cloud": {},
  "hide_input": false,
  "kernelspec": {
   "display_name": "Default Python 3",
   "language": "python",
   "name": "python3"
  },
  "language_info": {
   "codemirror_mode": {
    "name": "ipython",
    "version": 3
   },
   "file_extension": ".py",
   "mimetype": "text/x-python",
   "name": "python",
   "nbconvert_exporter": "python",
   "pygments_lexer": "ipython3",
   "version": "3.8.3"
  },
  "latex_envs": {
   "LaTeX_envs_menu_present": true,
   "autoclose": false,
   "autocomplete": true,
   "bibliofile": "biblio.bib",
   "cite_by": "apalike",
   "current_citInitial": 1,
   "eqLabelWithNumbers": true,
   "eqNumInitial": 1,
   "hotkeys": {
    "equation": "Ctrl-E",
    "itemize": "Ctrl-I"
   },
   "labels_anchors": false,
   "latex_user_defs": false,
   "report_style_numbering": false,
   "user_envs_cfg": false
  },
  "n_questions": 11
 },
 "nbformat": 4,
 "nbformat_minor": 1
}

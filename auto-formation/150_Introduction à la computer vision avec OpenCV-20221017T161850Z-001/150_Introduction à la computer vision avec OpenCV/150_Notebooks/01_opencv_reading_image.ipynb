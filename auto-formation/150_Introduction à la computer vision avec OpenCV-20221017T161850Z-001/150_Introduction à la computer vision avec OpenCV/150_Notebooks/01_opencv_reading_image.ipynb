{
 "cells": [
  {
   "cell_type": "markdown",
   "metadata": {
    "deletable": false,
    "editable": false,
    "run_control": {
     "frozen": true
    }
   },
   "source": [
    "<img src= \"https://datascientest.fr/train/assets/logo_datascientest.png\" style=\"height:150px\"> \n",
    "<hr style=\"border-width:2px;border-color:#75DFC1\">\n",
    "<h1 style = \"text-align:center\" > Image processing </h1> \n",
    "<h2 style = \"text-align:center\"> Comment lire et afficher une image </h2> \n",
    "<hr style=\"border-width:2px;border-color:#75DFC1\">\n",
    "\n",
    "### Contexte et objectif\n",
    "\n",
    "> En data science, quand vous travaillez sur des problématiques utilisant des images vous aurez besoin de savoir comment lire une image et comme pour des jeux de données classiques, comment faire des transformations en amont de l'utilisation d'un modèle.\n",
    ">\n",
    "> L'objectif de ce notebook est de découvrir la librairie OpenCV, d'apprendre à lire une image et d'effectuer des modifications simples.\n",
    ">\n",
    "> Commençons par la phase d'importation des packages.\n",
    "\n",
    "* Importer les packages **`numpy`**, **`cv2`** et **`pyplot`**."
   ]
  },
  {
   "cell_type": "code",
   "execution_count": 1,
   "metadata": {
    "collapsed": true
   },
   "outputs": [],
   "source": [
    "\n",
    "\n"
   ]
  },
  {
   "cell_type": "markdown",
   "metadata": {
    "deletable": false,
    "editable": false,
    "run_control": {
     "frozen": true
    }
   },
   "source": [
    "> Nous allons commencer par apprendre à lire une image. La fonction **`imread`** de **cv2** permet de lire facilement une image que ce soit en couleur ou en noir et blanc. Il est important de savoir que cette fonction ne supporte que certains formats comme *.jpeg* ou *.png*. Vous trouverez une liste plus détaillée [ici](https://docs.opencv.org/4.1.2/d4/da8/group__imgcodecs.html)\n",
    ">\n",
    "> Dans le premier argument de la fonction **`imread`** vous devez renseigner le chemin où se trouve votre image. Un deuxième argument est disponible. Il permet de déterminer si vous souhaitez lire l'image en couleur ou bien en noir et blanc. Pour cela il suffit de renseigner les arguments suivants : \n",
    "* **cv2.IMREAD_COLOR** : pour lire l'image en couleur\n",
    "* **cv2.IMREAD_GRAYSCALE** : pour lire l'image en noir et blanc\n",
    ">\n",
    "> <span style=\"color:#09b038; text-decoration : underline\"> Exemple: utilisation de **imread** </span><br>\n",
    "```python\n",
    "img = cv2.imread(\"mon_image.jpg\") # pour lire mon_image\n",
    "```\n",
    "\n",
    "* En utilisant la fonction **`imread`** de **cv2** lire, en couleur, l'image *street* qui est au format *.jpg* et la stocker dans une variable nommée **`img_color`**\n",
    "* En utilisant la fonction **`imread`** de **cv2** lire, en noir et blanc, l'image *street* qui est au format *.jpg* et la stocker dans une variable nommée **`img_gray`**\n",
    "* Observer les types de objets retournés"
   ]
  },
  {
   "cell_type": "markdown",
   "metadata": {
    "deletable": false,
    "editable": false,
    "run_control": {
     "frozen": true
    }
   },
   "source": [
    "> Les objets retournés par la fonction **`imread`** de **cv2** sont des **array**. \n",
    "\n",
    "* En utilisant la méthode **`shape`** afficher les dimensions de **`img_color`** et **`img_gray`**"
   ]
  },
  {
   "cell_type": "markdown",
   "metadata": {
    "deletable": false,
    "editable": false,
    "run_control": {
     "frozen": true
    }
   },
   "source": [
    "> Comme vous l'avez remarqué avec la question précédente, une image est en fait un tableau de pixels. Selon que l'image est en couleur ou non la dimension des tableaux retournés est de 150x150 ou bien de 150x150x3. La raison vient de la manière dont est représentée l'image par la librairie **`cv2`**.\n",
    ">\n",
    "> Chaque élément du tableau est un pixel. Dans une représentation en noir et blanc ce pixel est simplement un entier entre 0 et 255. Plus le nombre est proche de 0 plus le niveau d'activation du pixel est faible et donc de plus en plus noir. Inversement plus le nombre est proche de 255 plus le niveau d'activation est élevé et donc de plus en plus blanc.\n",
    ">\n",
    "> Regardons un exemple simple pour mieux comprendre. Voici un tableau constitué de 25 pixels :\n",
    ">\n",
    ">| 0 | 1 | 2 | 3 | 4 |           \n",
    "|-----|-----|-----|-----|-----|\n",
    "| 255 | 0   | 0   | 0   | 0   |\n",
    "| 0   | 255 | 0   | 0   | 0   |     \n",
    "| 0   | 0   | 255 | 0   | 0   |\n",
    "| 0   | 0   | 0   | 255 | 0   |\n",
    "| 0   | 0   | 0   | 0   | 255 |\n",
    ">\n",
    "> Voici le résultat après affichage : \n",
    ">\n",
    "><img src=\"https://assets-datascientest.s3-eu-west-1.amazonaws.com/notebooks/capture_image_grayscale.JPG\" style=\"height:300px\">\n",
    ">\n",
    "> Dans le cas d'une représentation en couleur chaque pixel est constitué d'un niveau de **bleu**, d'un niveau de **vert** et d'un niveau de **rouge**. Chacun des niveaux prend une valeur entre 0 et 255. Il s'agit d'un espace colorimétrique additif où les couleurs sont obtenues par une combinaison linéaire de valeurs de bleu, de vert et de rouge. Cet espace colorimétrique particulier est nommé **BGR** (Blue, Green, Red) et est utilisé par défaut par la librairie **`cv2`**. Il en existe d'autres comme **RGB** (Red, Green, Blue), qui fonctionne de manière similaire, ou encore **LAB**, **YCrCb**, **HSV** qui fonctionnent différemment. \n",
    ">\n",
    "> Comme pour le cas en noir et blanc prenons un exemple simple pour mieux comprendre. Voici une représentation simple d'un tableau de dimensions 5 par 5 par 3 : \n",
    ">\n",
    ">| 0 | 1 | 2 | 3 | 4 |   \n",
    "|-----------|---------------|---------------|-----------|-----------|\n",
    "| [0,0,255] | [0,0,0]       | [0,0,0]       | [0,0,0]   | [0,0,0]   |\n",
    "| [0,0,0]   | [170,190,210] | [0,0,0]       | [0,0,0]   | [0,0,0]   |\n",
    "| [0,0,0]   | [0,0,0]       | [200,150,120] | [0,0,0]   | [0,0,0]   |\n",
    "| [0,0,0]   | [0,0,0]       | [0,0,0]       | [255,0,0] | [0,0,0]   |\n",
    "| [0,0,0]   | [0,0,0]       | [0,0,0]       | [0,0,0]   | [0,255,0] |\n",
    ">\n",
    "> Voici le résultat après affichage en utilisant l'espace de couleur **RGB**: \n",
    ">\n",
    "><img src=\"https://assets-datascientest.s3-eu-west-1.amazonaws.com/notebooks/capture_image_color.JPG\" style=\"height:300px\">\n",
    ">\n",
    "> Pour afficher une image vous aurez besoin du package **pyplot**, de **matplotlib**, et de sa fonction **`imshow`**. Cette dernière vous permettra de visualiser l'image dans votre notebook. \n",
    ">\n",
    "> Pour pouvoir lire une image en noir et blanc il est important d'utiliser l'argument **cmap**.\n",
    ">\n",
    "> <span style=\"color:#09b038; text-decoration : underline\"> Exemple : Utilisation de **imshow** </span><br>\n",
    "```python\n",
    "plt.imshow(mon_image, cmap = 'gray') #pour lire  mon_image en noir et blanc\n",
    "plt.show();```\n",
    "\n",
    "* Afficher **`img_gray`** en utilisant la fonction **`imshow`**"
   ]
  },
  {
   "cell_type": "code",
   "execution_count": 12,
   "metadata": {},
   "outputs": [
    {
     "data": {
      "image/png": "[encoded data removed]",
      "text/plain": [
       "<Figure size 576x360 with 1 Axes>"
      ]
     },
     "metadata": {},
     "output_type": "display_data"
    }
   ],
   "source": [
    "\n"
   ]
  },
  {
   "cell_type": "markdown",
   "metadata": {
    "deletable": false,
    "editable": false,
    "run_control": {
     "frozen": true
    }
   },
   "source": [
    "* Mettre à 0 les pixels de la partie supérieure gauche de **`img_gray`** et afficher"
   ]
  },
  {
   "cell_type": "code",
   "execution_count": null,
   "metadata": {},
   "outputs": [],
   "source": [
    "\n",
    "\n"
   ]
  },
  {
   "cell_type": "markdown",
   "metadata": {
    "deletable": false,
    "editable": false,
    "run_control": {
     "frozen": true
    }
   },
   "source": [
    "> Comme attendu et expliqué précédemment, la partie supérieure gauche est désormais en noir. \n",
    ">\n",
    "> Egalement il peut être utile de masquer l'image pour éliminer de l'information inutile dans l'image. Nous devons dans un premier temps créer un tableau **`mask`** composé uniquement de 0 et de même dimension que **`img_gray`**.\n",
    ">\n",
    "> Ensuite nous pouvons utiliser la fonction **`fillPoly`** pour déterminer un polygone à masquer dans l'image. Supposons que dans l'image **`img_gray`** nous souhaitons garder un triangle qui commence dans le coin inférieur droit, se dirige vers le centre de l'image et suit un autre bord dans le coin inférieur gauche de l'image. \n",
    ">\n",
    "> Un argument essentiel à renseigner dans l'utilisation de **`fillPoly`** est les sommets du polygone à masquer. Dans notre exemple nous avons besoin des coordonnées du centre de l'image, du coin inférieur droit et du coin inférieur gauche. \n",
    ">\n",
    "> Une fois que nous avons les coordonnées des sommets du polygone à masquer nous allons appliquer **`fillpoly`** sur **`mask`** pour garder à 0 les pixels du polygone et veiller à donner comme valeur 255 aux pixels que nous souhaitons conserver. Pour faire cela, nous devons utiliser l'argument **color** de **`fillpoly`** et le fixer à 255. \n",
    ">\n",
    "> <span style=\"color:#09b038; text-decoration : underline\"> Exemple : utilisation de **fillpoly**</span><br>\n",
    "```python \n",
    "   cv2.fillPoly(mon_masque, sommets, color = 255)```\n",
    "> \n",
    "> Une fois que le masque est créé il ne nous reste plus qu'à \"concaténer\" en quelque sorte **`mask`** et **`img_gray`** pour masquer la région contenant des informations inutiles. Nous allons utiliser la fonction **`bitwise_and`** qui permet de sommer deux images d'une certaine manière : La fonction compare chacun des pixels et conservent le minimum des deux. Ainsi nous ne conservons que la partie intéressante de l'image. \n",
    "> \n",
    "> <span style=\"color:#09b038; text-decoration : underline\"> Exemple : utilisation de **bitwise_and**</span><br>\n",
    "```python \n",
    "   cv2.bitwise_and(mon_image, mask) # pour masquer mon_image```\n",
    "    \n",
    "* Créer un tableau **`mask`** composé uniquement de 0.\n",
    "* Dans une variable **`sommets`** stockés les coordonnées des sommets (centre de l'image, coin inférieur droit, coin inférieur gauche) du polygone à masquer. \n",
    "* En utilisant la fonction **`fillPoly`**, mettre à 255 les pixels en dehors du polygone à masquer. \n",
    "* En utilisant la fonction **`bitwise_and`**, appliquer le masque à **`img_gray`**.\n",
    "* Afficher le résultat."
   ]
  },
  {
   "cell_type": "code",
   "execution_count": null,
   "metadata": {},
   "outputs": [],
   "source": []
  },
  {
   "cell_type": "markdown",
   "metadata": {
    "deletable": false,
    "editable": false,
    "run_control": {
     "frozen": true
    }
   },
   "source": [
    "* En utilisant **`imshow`**, afficher **`img_color`**"
   ]
  },
  {
   "cell_type": "code",
   "execution_count": null,
   "metadata": {},
   "outputs": [],
   "source": []
  },
  {
   "cell_type": "markdown",
   "metadata": {
    "deletable": false,
    "editable": false,
    "run_control": {
     "frozen": true
    }
   },
   "source": [
    "> Vous remarquerez que les couleurs à l'affichage ne semblent pas naturelles. Le bâtiment à gauche apparaît en bleu ciel. La raison est simple : **pyplot** utilise l'espace colorimétrique **RGB** quand **`cv2`** utilise l'espace colorimétrique **BGR**. Il est donc nécessaire avant d'utiliser **`imshow`**, de changer l'espace colorimétrique utilisé pour **`img_color`**. \n",
    ">\n",
    "> **`cv2`**, grâce à sa fonction **`cvtColor`**, permet de changer facilement l'espace colorimétrique utilisé pour représenter une image. L'attribut **code** permet de signifier le nouvel espace colorimétrique souhaité. Vous trouverez [ici](https://docs.opencv.org/master/d8/d01/group__imgproc__color__conversions.html#ga4e0972be5de079fed4e3a10e24ef5ef0) une liste des espaces de couleur disponibles. Les codes **cv2.COLOR_BGR2GRAY** et **cv2.COLOR_BGR2RGB** permettent respectivement de convertir l'image en noir et blanc et de convertir au format **RGB**.\n",
    ">\n",
    "> <span style=\"color:#09b038; text-decoration : underline\"> Exemple : Utilisation de **cvtColor** </span><br>\n",
    "```python\n",
    "mon_image = cv2.cvtColor(mon_image, cv2.COLOR_BGR2GRAY) #pour convertir  mon_image en noir et blanc\n",
    "```\n",
    "\n",
    "* Changer l'espace de couleur de **`img_color`** de **BGR** en **RGB**\n",
    "* Afficher de nouveau **`img_color`** en utilisant **`imshow`** de **`pyplot`**"
   ]
  },
  {
   "cell_type": "code",
   "execution_count": null,
   "metadata": {},
   "outputs": [],
   "source": []
  },
  {
   "cell_type": "markdown",
   "metadata": {
    "deletable": false,
    "editable": false,
    "run_control": {
     "frozen": true
    }
   },
   "source": [
    "> **`cv2`** permet également de de diminuer ou d'augmenter la taille de l'image si nécessaire. La fonction **`resize`** permet de le faire. L'attribut **dsize** de cette fonction permet de fixer la taille de l'image que vous souhaitez obtenir. \n",
    ">\n",
    "> Cette fonction est utile si vous disposez d'images de tailles différentes et que vous souhaitez harmoniser ou bien si l'algorithme que vous utilisez est contraignant au niveau de la taille des images. \n",
    ">\n",
    "> <span style=\"color:#09b038; text-decoration : underline\"> Exemple : Utilisation de **resize** </span><br>\n",
    "```python\n",
    "mon_image = cv2.resize(mon_image, dsize = (150,150))#pour modifier la taille de mon_image en 150 par 150\n",
    "```\n",
    "\n",
    "* Modifier la taille de **`img_color`** de 150 par 150 à 75 par 75 et afficher l'image\n",
    "* Modifier la taille de **`img_color`** de 150 par 150 à 1000 par 1000 et afficher l'image"
   ]
  },
  {
   "cell_type": "code",
   "execution_count": null,
   "metadata": {},
   "outputs": [],
   "source": []
  },
  {
   "cell_type": "markdown",
   "metadata": {
    "deletable": false,
    "editable": false,
    "run_control": {
     "frozen": true
    }
   },
   "source": [
    "> Sur l'image de gauche nous remarquons que la netteté a fortement diminué. En effet, étant donné que nous avons divisé par 2 la taille de l'image celle-ci est donc moins détaillée et apparaît plus floutée. Nous avons donc potentiellement perdu de l'information.\n",
    ">\n",
    "> Sur l'image de droite nous avons fortement augmenté la taille de l'image. Nous nous apercevons que la netteté s'améliore un peu mais cela reste très peu relativement à la manière dont nous avons augmenté la taille et donc le poids l'image. Travailler avec des images de taille aussi grande (1000x1000) peut très vite poser un problème de temps de calcul pour beaucoup d'algorithmes. Il est donc nécessaire de déterminer une taille d'image suffisamment importante pour distinguer de l'information pertinente mais sans pour autant en faire trop et prendre le risque de surcharger inutilement les calculs à venir.\n",
    "\n",
    "### Conclusion\n",
    " \n",
    "> Dans ce notebook vous aurez appris à :\n",
    "* Lire une image en utilisant la fonction **`imread`** de la librairie **`cv2`**.\n",
    "* Comprendre comment l'image et les pixels associés sont représentés que ce soit en couleur ou en noir et blanc.\n",
    "* Comprendre les notions d'espaces de couleur (RGB/BGR) qui ne sont pas les mêmes utilisés selon les librairies.\n",
    "* Redimensionner une image à l'aide de la fonction **`resize`** de la librairie **`cv2`**."
   ]
  }
 ],
 "metadata": {
  "hide_input": false,
  "kernelspec": {
   "display_name": "Default Python 3",
   "language": "python",
   "name": "python3"
  },
  "language_info": {
   "codemirror_mode": {
    "name": "ipython",
    "version": 3
   },
   "file_extension": ".py",
   "mimetype": "text/x-python",
   "name": "python",
   "nbconvert_exporter": "python",
   "pygments_lexer": "ipython3",
   "version": "3.8.3"
  }
 },
 "nbformat": 4,
 "nbformat_minor": 2
}
